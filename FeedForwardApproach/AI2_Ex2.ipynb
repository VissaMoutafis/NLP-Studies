{
  "cells": [
    {
      "cell_type": "markdown",
      "metadata": {
        "id": "T5aVFTm-6Ku-"
      },
      "source": [
        "# Assignment 2 - AI2\n",
        "\n",
        "__Student's Credentials__: Vissarion Moutafis - sdi1800119\n",
        "\n",
        "In this assignment we will try to create an effective ML pipeline that will get a raw sentence and will predict whether the sentence is pro-vaccine or anti-vaccine or neutral. The training corpus comes from twitter, as well as the evaluation dataset.\n",
        "\n",
        "## Assignment 2 Addition\n",
        "We will create several NNs and train them and after compare them with the softmax regression to meassure the perfomance improvement."
      ]
    },
    {
      "cell_type": "code",
      "execution_count": 1,
      "metadata": {
        "colab": {
          "base_uri": "https://localhost:8080/"
        },
        "id": "Dx2HHHxESs57",
        "outputId": "ba90c5b4-68ff-46b3-f7f4-3bd4b6408bc4"
      },
      "outputs": [
        {
          "name": "stdout",
          "output_type": "stream",
          "text": [
            "[nltk_data] Downloading package stopwords to /root/nltk_data...\n",
            "[nltk_data]   Unzipping corpora/stopwords.zip.\n",
            "[nltk_data] Downloading package wordnet to /root/nltk_data...\n",
            "[nltk_data]   Unzipping corpora/wordnet.zip.\n",
            "Collecting pytorch-ignite\n",
            "  Downloading pytorch_ignite-0.4.8-py3-none-any.whl (251 kB)\n",
            "\u001b[K     |████████████████████████████████| 251 kB 3.7 MB/s \n",
            "\u001b[?25hRequirement already satisfied: torch<2,>=1.3 in /usr/local/lib/python3.7/dist-packages (from pytorch-ignite) (1.10.0+cu111)\n",
            "Requirement already satisfied: typing-extensions in /usr/local/lib/python3.7/dist-packages (from torch<2,>=1.3->pytorch-ignite) (3.10.0.2)\n",
            "Installing collected packages: pytorch-ignite\n",
            "Successfully installed pytorch-ignite-0.4.8\n",
            "Requirement already satisfied: tqdm in /usr/local/lib/python3.7/dist-packages (4.62.3)\n",
            "cuda:0\n"
          ]
        }
      ],
      "source": [
        "import pandas as pd\n",
        "import numpy as np \n",
        "import matplotlib.pyplot as plt\n",
        "import seaborn\n",
        "import re\n",
        "\n",
        "from sklearn.pipeline import Pipeline\n",
        "from sklearn.model_selection import train_test_split\n",
        "from sklearn.feature_extraction.text import CountVectorizer, HashingVectorizer, TfidfVectorizer\n",
        "from sklearn.linear_model import LogisticRegression\n",
        "from sklearn.metrics import f1_score, precision_score, accuracy_score, confusion_matrix, recall_score, log_loss\n",
        "from sklearn.decomposition import PCA\n",
        "from sklearn.model_selection import learning_curve\n",
        "from sklearn.preprocessing import StandardScaler\n",
        "from sklearn.metrics import roc_curve, roc_auc_score, classification_report\n",
        "\n",
        "import nltk\n",
        "from nltk.stem.snowball import SnowballStemmer \n",
        "from nltk.stem import WordNetLemmatizer\n",
        "from nltk.corpus import stopwords\n",
        "\n",
        "seaborn.set_style(\"ticks\")\n",
        "nltk.download(\"stopwords\")\n",
        "nltk.download(\"wordnet\")\n",
        "\n",
        "import torch\n",
        "from torchtext.data.utils import get_tokenizer\n",
        "!pip install pytorch-ignite\n",
        "\n",
        "from ignite.engine import Engine, Events\n",
        "from ignite.handlers import EarlyStopping\n",
        "\n",
        "!pip install tqdm\n",
        "from tqdm import tqdm, trange\n",
        "\n",
        "device = torch.device(\"cuda:0\" if torch.cuda.is_available() else \"cpu\")\n",
        "print(device)"
      ]
    },
    {
      "cell_type": "code",
      "execution_count": 2,
      "metadata": {
        "colab": {
          "base_uri": "https://localhost:8080/"
        },
        "id": "FvP1XLxCL2eG",
        "outputId": "b804acc4-c5ac-4675-a73d-9cddbc2f4b41"
      },
      "outputs": [
        {
          "name": "stdout",
          "output_type": "stream",
          "text": [
            "Mounted at /content/drive\n"
          ]
        }
      ],
      "source": [
        "from google.colab import drive\n",
        "drive.mount('/content/drive')"
      ]
    },
    {
      "cell_type": "code",
      "execution_count": 3,
      "metadata": {
        "id": "ITLQcdfReRYa"
      },
      "outputs": [],
      "source": [
        "# CHANGE THIS ONLY\n",
        "dir_path = \"/content/drive/MyDrive/Collab-Datasets/Vaccine Sentiment Dataset/\"\n"
      ]
    },
    {
      "cell_type": "code",
      "execution_count": 4,
      "metadata": {
        "id": "Tc3AugvnTCCm"
      },
      "outputs": [],
      "source": [
        "train_dt_path = dir_path + \"vs_train.csv\"\n",
        "test_dt_path = dir_path + \"vs_dev.csv\"\n",
        "\n",
        "LABELS = ['neutral', 'anti-vax', 'pro-vax']"
      ]
    },
    {
      "cell_type": "code",
      "execution_count": 5,
      "metadata": {
        "colab": {
          "base_uri": "https://localhost:8080/",
          "height": 206
        },
        "id": "WY7zmQeVTIjr",
        "outputId": "87246ea4-1fe6-4f57-8b46-d94e860664ad"
      },
      "outputs": [
        {
          "data": {
            "text/html": [
              "\n",
              "  <div id=\"df-abeaaffd-2bbf-4ba0-af01-936509c84e4d\">\n",
              "    <div class=\"colab-df-container\">\n",
              "      <div>\n",
              "<style scoped>\n",
              "    .dataframe tbody tr th:only-of-type {\n",
              "        vertical-align: middle;\n",
              "    }\n",
              "\n",
              "    .dataframe tbody tr th {\n",
              "        vertical-align: top;\n",
              "    }\n",
              "\n",
              "    .dataframe thead th {\n",
              "        text-align: right;\n",
              "    }\n",
              "</style>\n",
              "<table border=\"1\" class=\"dataframe\">\n",
              "  <thead>\n",
              "    <tr style=\"text-align: right;\">\n",
              "      <th></th>\n",
              "      <th>tweet</th>\n",
              "      <th>label</th>\n",
              "    </tr>\n",
              "  </thead>\n",
              "  <tbody>\n",
              "    <tr>\n",
              "      <th>0</th>\n",
              "      <td>Sip N Shop Come thru right now #Marjais #Popul...</td>\n",
              "      <td>0</td>\n",
              "    </tr>\n",
              "    <tr>\n",
              "      <th>1</th>\n",
              "      <td>I don't know about you but My family and I wil...</td>\n",
              "      <td>1</td>\n",
              "    </tr>\n",
              "    <tr>\n",
              "      <th>2</th>\n",
              "      <td>@MSignorile Immunizations should be mandatory....</td>\n",
              "      <td>2</td>\n",
              "    </tr>\n",
              "    <tr>\n",
              "      <th>3</th>\n",
              "      <td>President Obama spoke in favor of vaccination ...</td>\n",
              "      <td>0</td>\n",
              "    </tr>\n",
              "    <tr>\n",
              "      <th>4</th>\n",
              "      <td>\"@myfoxla: Arizona monitoring hundreds for mea...</td>\n",
              "      <td>0</td>\n",
              "    </tr>\n",
              "  </tbody>\n",
              "</table>\n",
              "</div>\n",
              "      <button class=\"colab-df-convert\" onclick=\"convertToInteractive('df-abeaaffd-2bbf-4ba0-af01-936509c84e4d')\"\n",
              "              title=\"Convert this dataframe to an interactive table.\"\n",
              "              style=\"display:none;\">\n",
              "        \n",
              "  <svg xmlns=\"http://www.w3.org/2000/svg\" height=\"24px\"viewBox=\"0 0 24 24\"\n",
              "       width=\"24px\">\n",
              "    <path d=\"M0 0h24v24H0V0z\" fill=\"none\"/>\n",
              "    <path d=\"M18.56 5.44l.94 2.06.94-2.06 2.06-.94-2.06-.94-.94-2.06-.94 2.06-2.06.94zm-11 1L8.5 8.5l.94-2.06 2.06-.94-2.06-.94L8.5 2.5l-.94 2.06-2.06.94zm10 10l.94 2.06.94-2.06 2.06-.94-2.06-.94-.94-2.06-.94 2.06-2.06.94z\"/><path d=\"M17.41 7.96l-1.37-1.37c-.4-.4-.92-.59-1.43-.59-.52 0-1.04.2-1.43.59L10.3 9.45l-7.72 7.72c-.78.78-.78 2.05 0 2.83L4 21.41c.39.39.9.59 1.41.59.51 0 1.02-.2 1.41-.59l7.78-7.78 2.81-2.81c.8-.78.8-2.07 0-2.86zM5.41 20L4 18.59l7.72-7.72 1.47 1.35L5.41 20z\"/>\n",
              "  </svg>\n",
              "      </button>\n",
              "      \n",
              "  <style>\n",
              "    .colab-df-container {\n",
              "      display:flex;\n",
              "      flex-wrap:wrap;\n",
              "      gap: 12px;\n",
              "    }\n",
              "\n",
              "    .colab-df-convert {\n",
              "      background-color: #E8F0FE;\n",
              "      border: none;\n",
              "      border-radius: 50%;\n",
              "      cursor: pointer;\n",
              "      display: none;\n",
              "      fill: #1967D2;\n",
              "      height: 32px;\n",
              "      padding: 0 0 0 0;\n",
              "      width: 32px;\n",
              "    }\n",
              "\n",
              "    .colab-df-convert:hover {\n",
              "      background-color: #E2EBFA;\n",
              "      box-shadow: 0px 1px 2px rgba(60, 64, 67, 0.3), 0px 1px 3px 1px rgba(60, 64, 67, 0.15);\n",
              "      fill: #174EA6;\n",
              "    }\n",
              "\n",
              "    [theme=dark] .colab-df-convert {\n",
              "      background-color: #3B4455;\n",
              "      fill: #D2E3FC;\n",
              "    }\n",
              "\n",
              "    [theme=dark] .colab-df-convert:hover {\n",
              "      background-color: #434B5C;\n",
              "      box-shadow: 0px 1px 3px 1px rgba(0, 0, 0, 0.15);\n",
              "      filter: drop-shadow(0px 1px 2px rgba(0, 0, 0, 0.3));\n",
              "      fill: #FFFFFF;\n",
              "    }\n",
              "  </style>\n",
              "\n",
              "      <script>\n",
              "        const buttonEl =\n",
              "          document.querySelector('#df-abeaaffd-2bbf-4ba0-af01-936509c84e4d button.colab-df-convert');\n",
              "        buttonEl.style.display =\n",
              "          google.colab.kernel.accessAllowed ? 'block' : 'none';\n",
              "\n",
              "        async function convertToInteractive(key) {\n",
              "          const element = document.querySelector('#df-abeaaffd-2bbf-4ba0-af01-936509c84e4d');\n",
              "          const dataTable =\n",
              "            await google.colab.kernel.invokeFunction('convertToInteractive',\n",
              "                                                     [key], {});\n",
              "          if (!dataTable) return;\n",
              "\n",
              "          const docLinkHtml = 'Like what you see? Visit the ' +\n",
              "            '<a target=\"_blank\" href=https://colab.research.google.com/notebooks/data_table.ipynb>data table notebook</a>'\n",
              "            + ' to learn more about interactive tables.';\n",
              "          element.innerHTML = '';\n",
              "          dataTable['output_type'] = 'display_data';\n",
              "          await google.colab.output.renderOutput(dataTable, element);\n",
              "          const docLink = document.createElement('div');\n",
              "          docLink.innerHTML = docLinkHtml;\n",
              "          element.appendChild(docLink);\n",
              "        }\n",
              "      </script>\n",
              "    </div>\n",
              "  </div>\n",
              "  "
            ],
            "text/plain": [
              "                                               tweet  label\n",
              "0  Sip N Shop Come thru right now #Marjais #Popul...      0\n",
              "1  I don't know about you but My family and I wil...      1\n",
              "2  @MSignorile Immunizations should be mandatory....      2\n",
              "3  President Obama spoke in favor of vaccination ...      0\n",
              "4  \"@myfoxla: Arizona monitoring hundreds for mea...      0"
            ]
          },
          "execution_count": 5,
          "metadata": {},
          "output_type": "execute_result"
        }
      ],
      "source": [
        "train_df_raw = pd.read_csv(train_dt_path, index_col=0)\n",
        "test_df_raw = pd.read_csv(test_dt_path, index_col=0)\n",
        "\n",
        "train_df_raw.head()"
      ]
    },
    {
      "cell_type": "code",
      "execution_count": 6,
      "metadata": {
        "id": "IO3tjsmFXKBL"
      },
      "outputs": [],
      "source": [
        "# get test/test X and y\n",
        "X_train_raw, y_train = train_df_raw[\"tweet\"].to_numpy().reshape((-1,1)), train_df_raw[\"label\"].to_numpy().reshape((-1,1))\n",
        "X_test_raw, y_test = test_df_raw[\"tweet\"].to_numpy().reshape((-1,1)), test_df_raw[\"label\"].to_numpy().reshape((-1,1))"
      ]
    },
    {
      "cell_type": "markdown",
      "metadata": {
        "id": "daY1vuCr9Hbr"
      },
      "source": [
        "# Best Model from HW1\n",
        "\n",
        "Here we will deploy the best performing model from the previous assignment"
      ]
    },
    {
      "cell_type": "markdown",
      "metadata": {
        "id": "OixJKZnQ6C4d"
      },
      "source": [
        "## Data Preprocessing and Feature Extraction"
      ]
    },
    {
      "cell_type": "markdown",
      "metadata": {
        "id": "hFdz2imgMyeH"
      },
      "source": [
        "### Data Cleaning\n",
        "\n",
        "Actions Taken to clean sentences:\n",
        "\n",
        "- All to lower case\n",
        "- Remove http(s):// since its useless\n",
        "- Separate URL parts since there might be some hidden features there\n",
        "- Remove specific stopwords\n",
        "- Remove punctuation"
      ]
    },
    {
      "cell_type": "code",
      "execution_count": 7,
      "metadata": {
        "id": "wKEk_BknWmu4"
      },
      "outputs": [],
      "source": [
        "sw = set([re.sub(r'[^\\w\\s]', '', w) for w in stopwords.words(\"english\")]) - {\"no\", \"yes\", 'dont', 'didnt', 'wasnt', 'wont', 'will', 'not', 'can', 'cannot', 'should', 'shouldnt'}\n",
        "lemmatizer = WordNetLemmatizer()"
      ]
    },
    {
      "cell_type": "code",
      "execution_count": 8,
      "metadata": {
        "id": "Q4dGvQcBHX3H"
      },
      "outputs": [],
      "source": [
        "def clean_tweet(tweet):\n",
        "  all_lower_s = str(tweet).lower().strip(' ').strip('\\t') # all to lowercase\n",
        "  no_http_s = re.sub(r'http://|https://', '', all_lower_s) # keep only the part after http(s), for space efficiency \n",
        "  no_http_s = re.sub(r'/', ' ', no_http_s) # separate domain from link ending\n",
        "  no_punctuation_s = re.sub(r'[^\\w\\s]', '', no_http_s) # remove punctuation\n",
        "  no_stopwords_s = ' '.join([w for w in no_punctuation_s.split() if not w in sw]) \n",
        "  \n",
        "  return \" \".join([lemmatizer.lemmatize(w, pos='v') for w in no_stopwords_s.split()])\n",
        "\n",
        "def clean_tweets(X):\n",
        "  return np.apply_along_axis(clean_tweet, 1, X)"
      ]
    },
    {
      "cell_type": "code",
      "execution_count": 9,
      "metadata": {
        "id": "K7oTS1CLPu1R"
      },
      "outputs": [],
      "source": [
        "# clean the tweets\n",
        "cleaned_tweets = clean_tweets(X_train_raw)"
      ]
    },
    {
      "cell_type": "markdown",
      "metadata": {
        "id": "iMWMdmYdNaCk"
      },
      "source": [
        "### Feature Extraction w\\ vectorizing\n",
        "\n",
        "Now it's time to extract features and create a bug of words. For this task we will create a function to return the transformed encoded data so we can actually train the model. We could use \n",
        "- CountVectorizer\n",
        "- HashVectorizer\n",
        "- TF-IDF Transformer\n",
        "\n",
        "We will also use a _PCA dimension reducer_ in order to get the most important features of the vector and a _StandardScaler_ to normalize the training instances before model training."
      ]
    },
    {
      "cell_type": "code",
      "execution_count": 10,
      "metadata": {
        "id": "LzwHCqvCM118"
      },
      "outputs": [],
      "source": [
        "N_FEATURES = 2000         # number of features that the vectorizers will produce\n",
        "N_FEATS_IMPORTANT = 400   # number of important features to keep after dimension reduction operation\n",
        "N_GRAMS = (1,3)           # n-grams to consider\n",
        "MAX_ITER = 500"
      ]
    },
    {
      "cell_type": "markdown",
      "metadata": {
        "id": "gEbs3BXGQjbX"
      },
      "source": [
        "Define vectorizer, the PCA reducer and the Standard Scaler"
      ]
    },
    {
      "cell_type": "code",
      "execution_count": 11,
      "metadata": {
        "id": "vAgeGFPlQg1t"
      },
      "outputs": [],
      "source": [
        "count_vectorizer = CountVectorizer(ngram_range=N_GRAMS, max_features=N_FEATURES, max_df=0.7)\n",
        "count_vectorizer.fit(cleaned_tweets)\n",
        "\n",
        "pca_count = PCA(n_components=N_FEATS_IMPORTANT)\n",
        "pca_count.fit(count_vectorizer.transform(cleaned_tweets).toarray())\n",
        "\n",
        "scaler_count = StandardScaler()"
      ]
    },
    {
      "cell_type": "code",
      "execution_count": 12,
      "metadata": {
        "id": "Dcy45mdgH6Av"
      },
      "outputs": [],
      "source": [
        "# simple function to transform tweets into a normalized feature matrix\n",
        "def transform_tweets(X, vectorizer, reducer, scaler):\n",
        "  new_X = reducer.transform(vectorizer.transform(X).toarray())\n",
        "  from sklearn.utils.validation import check_is_fitted\n",
        "  try:\n",
        "    check_is_fitted(scaler)\n",
        "  except:\n",
        "    scaler.fit(new_X)\n",
        "    print(\"Fitted Scaler\")\n",
        "\n",
        "  return scaler.transform(new_X)"
      ]
    },
    {
      "cell_type": "markdown",
      "metadata": {
        "id": "-uhrd5cC9DLG"
      },
      "source": [
        "## Softmax Regression Model\n",
        "\n",
        "Train the softmax regression model for every vectorization method and fit the model according to $X_{train}$ "
      ]
    },
    {
      "cell_type": "code",
      "execution_count": 13,
      "metadata": {
        "colab": {
          "base_uri": "https://localhost:8080/"
        },
        "id": "z_6Owj1j6QTv",
        "outputId": "e908b98d-4376-4011-8688-a23580f08283"
      },
      "outputs": [
        {
          "name": "stdout",
          "output_type": "stream",
          "text": [
            "Fitted Scaler\n"
          ]
        }
      ],
      "source": [
        "model_count = LogisticRegression(n_jobs=-1, verbose=2, max_iter=MAX_ITER)\n",
        "X_train_count = transform_tweets(cleaned_tweets, count_vectorizer, pca_count, scaler_count)\n",
        "\n"
      ]
    },
    {
      "cell_type": "code",
      "execution_count": 14,
      "metadata": {
        "colab": {
          "base_uri": "https://localhost:8080/"
        },
        "id": "jQlxBLiN6RHQ",
        "outputId": "074d320a-609c-471c-c37f-59b180de8734"
      },
      "outputs": [
        {
          "name": "stderr",
          "output_type": "stream",
          "text": [
            "[Parallel(n_jobs=-1)]: Using backend LokyBackend with 2 concurrent workers.\n",
            "[Parallel(n_jobs=-1)]: Done   1 out of   1 | elapsed:   10.9s finished\n"
          ]
        },
        {
          "data": {
            "text/plain": [
              "LogisticRegression(max_iter=500, n_jobs=-1, verbose=2)"
            ]
          },
          "execution_count": 14,
          "metadata": {},
          "output_type": "execute_result"
        }
      ],
      "source": [
        "model_count.fit(X_train_count, y_train.reshape((-1,)))"
      ]
    },
    {
      "cell_type": "markdown",
      "metadata": {
        "id": "RNnXUGtNLMW1"
      },
      "source": [
        "\n",
        "## Softmax Evaluation\n",
        "\n",
        "Print statistics for each one of the model."
      ]
    },
    {
      "cell_type": "code",
      "execution_count": 15,
      "metadata": {
        "id": "ar6FLtfMTYyi"
      },
      "outputs": [],
      "source": [
        "def get_stats(model, X, y):\n",
        "  y_pred = model.predict(X)\n",
        "  y_pred_proba = model.predict_proba(X)\n",
        "  return accuracy_score(y, y_pred), precision_score(y, y_pred, labels=[0,1,2], average='weighted'), f1_score(y, y_pred, labels=[0,1,2], average='weighted'), recall_score(y, y_pred, labels=[0,1,2], average='weighted'), log_loss(y, y_pred_proba)\n",
        "\n",
        "def print_stats(model, X, y):\n",
        "  acc, pre, f, rec, loss = get_stats(model, X, y)\n",
        "\n",
        "  print(\"Accuracy:\", acc)\n",
        "  print(\"Precision:\", pre)\n",
        "  print(\"Recall:\", rec)\n",
        "  print(\"F1-Score:\", f)\n",
        "  print(\"Cross Entropy Loss:\", loss)"
      ]
    },
    {
      "cell_type": "code",
      "execution_count": 16,
      "metadata": {
        "colab": {
          "base_uri": "https://localhost:8080/"
        },
        "id": "N0Weh8UX-W7Y",
        "outputId": "4da4c658-abab-44ae-d04d-14ac23dea338"
      },
      "outputs": [
        {
          "name": "stdout",
          "output_type": "stream",
          "text": [
            "Count Vectorizer Softmax Regression: \n",
            "Accuracy: 0.7002629272567923\n",
            "Precision: 0.6962932066792498\n",
            "Recall: 0.7002629272567923\n",
            "F1-Score: 0.6943740106055803\n",
            "Cross Entropy Loss: 0.7090093821012559\n"
          ]
        }
      ],
      "source": [
        "X_test_count = transform_tweets(clean_tweets(X_test_raw), count_vectorizer, pca_count, scaler_count)\n",
        "\n",
        "print(\"Count Vectorizer Softmax Regression: \")\n",
        "print_stats(model_count, X_test_count, y_test)"
      ]
    },
    {
      "cell_type": "markdown",
      "metadata": {
        "id": "79yHlR71chew"
      },
      "source": [
        "# Pytorch NNs\n",
        "We will create 4 separate Feed-Froward NN models, but first let's clean the datasets. \n",
        "\n",
        "We will use the same cleaning function as in homework 1, but we will define a new struct, DataLoader that batches the input. We will use the default dataloader from pytorch and overload the Dataset class."
      ]
    },
    {
      "cell_type": "markdown",
      "metadata": {
        "id": "qLsu8qHlFIM5"
      },
      "source": [
        "### The Dataset Class\n",
        "\n",
        "We will override the Dataset class of pytorch to supply the dataloaders with our own data."
      ]
    },
    {
      "cell_type": "code",
      "execution_count": 17,
      "metadata": {
        "id": "NdAVnEh0ML4V"
      },
      "outputs": [],
      "source": [
        "train_tweets = clean_tweets(X_train_raw)\n",
        "test_tweets = clean_tweets(X_test_raw)"
      ]
    },
    {
      "cell_type": "code",
      "execution_count": 18,
      "metadata": {
        "id": "mRjqWWXQRAJ2"
      },
      "outputs": [],
      "source": [
        "class ClassifierDataset(torch.utils.data.Dataset):\n",
        "  def __init__(self, X_data, y_data):\n",
        "    self.X_data = X_data\n",
        "    self.y_data = y_data\n",
        "        \n",
        "  def __getitem__(self, index):\n",
        "    return self.X_data[index], self.y_data[index]\n",
        "        \n",
        "  def __len__ (self):\n",
        "    return len(self.X_data)"
      ]
    },
    {
      "cell_type": "markdown",
      "metadata": {
        "id": "NbggQJLhFTaV"
      },
      "source": [
        "### Feedforward NN Template\n",
        "\n",
        "We provide a template to build NNs with various numbers of hidden layers and specific activation layers. There is always a batch normalization at the input layer and after each activation function. There is also a dropout layer after each activation.\n",
        "\n",
        "We use those batch normalization and dropout layers in order to avoid overfitting."
      ]
    },
    {
      "cell_type": "code",
      "execution_count": 60,
      "metadata": {
        "id": "6XYJaWd9hDA-"
      },
      "outputs": [],
      "source": [
        "class Feedforward(torch.nn.Module):\n",
        "  def __init__(self, input_size, hidden_sizes, n_hidden_layers=1, activation=torch.nn.ReLU, verbose=False, n_classes=3, dropout_rate=0.4):\n",
        "    super(Feedforward, self).__init__()\n",
        "    # set up basic parameters\n",
        "    self.input_size = input_size\n",
        "    self.hidden_sizes  = hidden_sizes\n",
        "    self.n_hidden_layers = n_hidden_layers\n",
        "    self.verbose = verbose\n",
        "\n",
        "    # set up input layer and input batch normalization layer\n",
        "    if n_hidden_layers > 0:\n",
        "      self.layers = torch.nn.ModuleList([torch.nn.Linear(self.input_size, self.hidden_sizes[0]).to(device)]) # add at least one hidden layer\n",
        "      out_input_shape = self.hidden_sizes[-1]\n",
        "    else:\n",
        "      out_input_shape = self.input_size\n",
        "\n",
        "    self.batchesNorm = torch.nn.ModuleList([torch.nn.BatchNorm1d(self.input_size, device=device).to(device)])\n",
        "    \n",
        "    # create a list of layers in order to provide the caller with dynamic layer architecture \n",
        "    if n_hidden_layers > 0:\n",
        "      prev_hid_size = hidden_sizes[0]\n",
        "    for i in range(1, n_hidden_layers):\n",
        "      # the __to_device()__ calls are necessary since the list's layers will not be translated to gpu otherwise\n",
        "      self.batchesNorm.append(torch.nn.BatchNorm1d(prev_hid_size, device=device).to(device))\n",
        "      self.layers.append(torch.nn.Linear(prev_hid_size, self.hidden_sizes[i]).to(device))\n",
        "      prev_hid_size = self.hidden_sizes[i]\n",
        "\n",
        "    # add the final batch normalization before the exit layer\n",
        "    if n_hidden_layers > 0:\n",
        "      self.batchesNorm.append(torch.nn.BatchNorm1d(prev_hid_size, device=device).to(device))\n",
        "\n",
        "    # set up activation\n",
        "    self.activation = activation()\n",
        "    # set up dropout layer\n",
        "    self.dropout = torch.nn.Dropout(p=dropout_rate)\n",
        "    self.output_logits = torch.nn.Linear(out_input_shape, n_classes)\n",
        "\n",
        "  # default forward call to pass input through each layer, activation, batch normalization and dropout, according to layer list \n",
        "  def forward(self, x):\n",
        "    # translate input to device\n",
        "    inpt = x.to(device)\n",
        "    out = inpt\n",
        "    \n",
        "    # apply batcNorm, dense layer, activation, dropout cur-off for every layer in the layer list\n",
        "    for i in range(self.n_hidden_layers):\n",
        "      hidden = self.layers[i](self.batchesNorm[i](inpt))\n",
        "      out = self.activation(hidden)\n",
        "      inpt = self.dropout(out)\n",
        "\n",
        "    #  return the output of the NN\n",
        "    output = self.output_logits(self.batchesNorm[-1](out))\n",
        "    return output\n",
        "  \n",
        "\n",
        "  def trainning_step(self, optimizer, criterion, epoch_i, train_loader, eval_loader, history=None):\n",
        "    global device\n",
        "\n",
        "    # 1 step of backprop with train/test error estimation\n",
        "    total_loss = 0\n",
        "    for _X, _y in train_loader:\n",
        "      X, y = _X.to(device), _y.to(device)\n",
        "      # set the gradients to zero for new estimation\n",
        "      optimizer.zero_grad() \n",
        "      # forward pass\n",
        "      y_pred = self(X)\n",
        "      # compute loss \n",
        "      loss = criterion(y_pred, y)\n",
        "      total_loss += loss.item()\n",
        "\n",
        "      # backpropagate error\n",
        "      loss.backward()\n",
        "      # adjust model's parameters\n",
        "      optimizer.step()\n",
        "\n",
        "    train_loss = total_loss/len(train_loader)\n",
        "    total_loss = 0\n",
        "\n",
        "    with torch.no_grad():\n",
        "      for _X, _y in eval_loader:\n",
        "        X, y = _X.to(device), _y.to(device)\n",
        "        y_pred = self(X)\n",
        "        loss = criterion(y_pred, y)\n",
        "        total_loss += loss.item()\n",
        "\n",
        "    test_loss = total_loss/len(eval_loader)\n",
        "\n",
        "    # if the user provides with a history dict the training step will save the current epoch's train-test loss\n",
        "    if history is not None: \n",
        "      history['train'].append(train_loss)\n",
        "      history['test'].append(test_loss)\n",
        "\n",
        "    if self.verbose:\n",
        "        print('Epoch {}: train loss: {}, test_loss: {}'.format(epoch_i, train_loss, test_loss))    # Backward pass\n",
        "    \n",
        "    return train_loss, test_loss"
      ]
    },
    {
      "cell_type": "markdown",
      "metadata": {
        "id": "8ZEqx1xqdiYE"
      },
      "source": [
        "### Bow Models\n",
        "The first model will use the BoW vectorizer of previous Assignment\n",
        "We make sure that the model can have at least 1 layer and an output layer. The hiden layer number and sized can be given by the user, so we can define various number of dense layers.\n",
        "\n",
        "__Loss Function__ : Cross Entropy  Loss (proper for multi class problems)\n",
        "\n",
        "__Optimizer__: Stohastic Gradient Descent, Adam, etc."
      ]
    },
    {
      "cell_type": "markdown",
      "metadata": {
        "id": "YnQQCuzKGHRD"
      },
      "source": [
        "#### Model 1\n",
        "\n",
        "Simple architecture of 2 hidden layers $512 \\times 1024$ and $SELU$ activation."
      ]
    },
    {
      "cell_type": "code",
      "execution_count": 61,
      "metadata": {
        "id": "x1RGkLjXTvMB"
      },
      "outputs": [],
      "source": [
        "X_train_1 = torch.from_numpy(transform_tweets(train_tweets, count_vectorizer, pca_count, scaler_count)).float()\n",
        "D_train_1 = ClassifierDataset(X_train_1, y_train[:, 0])\n",
        "train_loader_1 = torch.utils.data.DataLoader(D_train_1, batch_size=512) \n",
        "\n",
        "X_test_1 = torch.from_numpy(transform_tweets(test_tweets, count_vectorizer, pca_count, scaler_count)).float()\n",
        "D_test_1 = ClassifierDataset(X_test_1, y_test[:, 0])\n",
        "test_loader_1 = torch.utils.data.DataLoader(D_test_1, batch_size=X_test_1.shape[0])"
      ]
    },
    {
      "cell_type": "code",
      "execution_count": 62,
      "metadata": {
        "id": "jQ0gbA1RkYui"
      },
      "outputs": [],
      "source": [
        "model1 = Feedforward(X_train_1.shape[1], [], n_hidden_layers=0, dropout_rate=0.7)\n",
        "model1.to(device)\n",
        "history1 = {'train':[], 'test':[]}"
      ]
    },
    {
      "cell_type": "code",
      "execution_count": 63,
      "metadata": {
        "colab": {
          "base_uri": "https://localhost:8080/"
        },
        "id": "-HblYM5GmAa8",
        "outputId": "59871c93-1b42-4a19-bb2d-618ce783f8d0"
      },
      "outputs": [
        {
          "name": "stderr",
          "output_type": "stream",
          "text": [
            "Epoch 99: train loss: 0.674605855718255, test_loss: 0.7076307535171509: 100%|██████████| 100/100 [00:15<00:00,  6.63it/s]\n"
          ]
        }
      ],
      "source": [
        "# set to training mode\n",
        "model1.train()\n",
        "criterion = torch.nn.CrossEntropyLoss()\n",
        "_lr = 0.001\n",
        "optimizer = torch.optim.Adam(model1.parameters(), lr = _lr)\n",
        "\n",
        "pbar = tqdm(range(100))\n",
        "for epoch in pbar:\n",
        "  train_loss, test_loss = model1.trainning_step(optimizer, criterion, epoch, train_loader_1, test_loader_1, history1)\n",
        "  pbar.set_description('Epoch {}: train loss: {}, test_loss: {}'.format(epoch, train_loss, test_loss), refresh=True)"
      ]
    },
    {
      "cell_type": "markdown",
      "metadata": {
        "id": "6bZFTibLGWtg"
      },
      "source": [
        "#### Model 2\n",
        "\n",
        "Architevture of Shallow NN: 1 hiden layer of $1024$ nodes with $SELU$ activation."
      ]
    },
    {
      "cell_type": "code",
      "execution_count": 112,
      "metadata": {
        "id": "CGFyXntwWeBN"
      },
      "outputs": [],
      "source": [
        "model2 = Feedforward(X_train_1.shape[1], [1024], n_hidden_layers=1, activation=torch.nn.LeakyReLU)\n",
        "model2.to(device)\n",
        "history2 = {'train':[], 'test':[]}"
      ]
    },
    {
      "cell_type": "code",
      "execution_count": 113,
      "metadata": {
        "colab": {
          "base_uri": "https://localhost:8080/"
        },
        "id": "9MiAP3W5Cl5J",
        "outputId": "1b502421-f197-4847-c65c-13e729ba2f87"
      },
      "outputs": [
        {
          "name": "stderr",
          "output_type": "stream",
          "text": [
            "Epoch 9: train loss: 0.551493120379746, test_loss: 0.7349151372909546: 100%|██████████| 10/10 [00:02<00:00,  3.81it/s]\n"
          ]
        }
      ],
      "source": [
        "# set to training mode\n",
        "model2.train()\n",
        "criterion = torch.nn.CrossEntropyLoss()\n",
        "optimizer = torch.optim.Adam(model2.parameters(), lr = 0.0001)\n",
        "\n",
        "pbar = tqdm(range(10))\n",
        "for epoch in pbar:\n",
        "  train_loss, test_loss = model2.trainning_step(optimizer, criterion, epoch, train_loader_1, test_loader_1, history2)\n",
        "  pbar.set_description('Epoch {}: train loss: {}, test_loss: {}'.format(epoch, train_loss, test_loss), refresh=True)"
      ]
    },
    {
      "cell_type": "markdown",
      "metadata": {
        "id": "vBAfUitaGkWN"
      },
      "source": [
        "### NNs with GLoVe Embeddings\n",
        "\n",
        "We will use the following cells to download and load the embeddings files"
      ]
    },
    {
      "cell_type": "code",
      "execution_count": 74,
      "metadata": {
        "id": "10gtJZVEc7sP"
      },
      "outputs": [],
      "source": [
        "# set up dir of glove embeddings or uncomment the following 2 lines to download\n",
        "dir_glove = 'drive/MyDrive/Collab-Datasets/'\n",
        "# !wget nlp.stanford.edu/data/wordvecs/glove.6B.zip\n",
        "# !unzip glove.6B.zip\n",
        "# !ls -l"
      ]
    },
    {
      "cell_type": "markdown",
      "metadata": {
        "id": "F60V_9b6G1G3"
      },
      "source": [
        "Following, we will parse the embeddings file. Use the N_EMBEDDINGS to choose the numbers of embeddings dimensions.\n"
      ]
    },
    {
      "cell_type": "code",
      "execution_count": 75,
      "metadata": {
        "id": "5u3-pmIZ397-"
      },
      "outputs": [],
      "source": [
        "def parse_line(line) :\n",
        "  line_split = line.split()\n",
        "  word = clean_tweet(line_split[0])\n",
        "  vec = np.asarray(line_split[1:], dtype=np.float64)\n",
        "  return word, vec\n",
        "\n",
        "# create vocabulary of pro/neutral/anti vax\n",
        "def create_vocab(tweets, labels) :\n",
        "  v = set()\n",
        "  for tweet, label in zip(tweets, labels):\n",
        "    for tok in tweet.split():\n",
        "      v.add(tok)      \n",
        "  return v"
      ]
    },
    {
      "cell_type": "code",
      "execution_count": 76,
      "metadata": {
        "id": "IdSaNED31oRH"
      },
      "outputs": [],
      "source": [
        "N_EMBEDDINGS = 200\n",
        "# create a word_idx to embedding dict and a tokenizer dict\n",
        "word_emb = {'<unknown>': np.zeros((N_EMBEDDINGS,))}\n",
        "word2idx = {'<unknown>':0}\n",
        "idx = 1\n",
        "\n",
        "with open(dir_glove + f\"glove.6B.{N_EMBEDDINGS}d.txt\") as embeddings_file:\n",
        "  for line in embeddings_file.readlines():\n",
        "    word, vec = parse_line(line)\n",
        "    word_emb[word] = vec"
      ]
    },
    {
      "cell_type": "markdown",
      "metadata": {
        "id": "252Szc2NHL6d"
      },
      "source": [
        "Now we have to create a word2idx and a vocabulary so that we construct the initial embeddings layer, using pytorch's template"
      ]
    },
    {
      "cell_type": "code",
      "execution_count": 77,
      "metadata": {
        "id": "qmJ6dU5V3EuM"
      },
      "outputs": [],
      "source": [
        "# create weight matrix for word embeddings\n",
        "def create_W(target_vocab, word2emb, n_features):\n",
        "  global idx\n",
        "\n",
        "  # concat all words from all vocabularies and init the weight matrix\n",
        "  W = np.zeros((len(target_vocab)+1, n_features))\n",
        "\n",
        "#  parse all the words and create the respective embedding weights\n",
        "  for i, w in enumerate(target_vocab):\n",
        "    #  add the word in the indexing table\n",
        "    word2idx[w] = idx \n",
        "    idx += 1\n",
        "\n",
        "    # consider the importance of the embedding\n",
        "    try:\n",
        "      W[i+1] = word2emb[w]\n",
        "    except KeyError:\n",
        "      W[i+1] = np.random.normal(scale=0.6, size=(n_features,))\n",
        "  return W\n",
        "\n",
        "# Now we must define a function to create an embeedings layer\n",
        "def create_embedding_layer(weights, trainable=True):\n",
        "  num_embeddings, embeddings_dim = weights.shape\n",
        "  emb_layer = torch.nn.Embedding(num_embeddings, embeddings_dim).to(device)\n",
        "  emb_layer.load_state_dict({'weight' : torch.from_numpy(weights).float()})\n",
        "  emb_layer.weight.requires_grad = trainable\n",
        "  return emb_layer\n"
      ]
    },
    {
      "cell_type": "code",
      "execution_count": 78,
      "metadata": {
        "id": "MJZ_rX5R8Z6a"
      },
      "outputs": [],
      "source": [
        "idx = 1\n",
        "train_tweets_vocab = create_vocab(train_tweets, y_train)"
      ]
    },
    {
      "cell_type": "code",
      "execution_count": 79,
      "metadata": {
        "id": "7519_6RD4vzx"
      },
      "outputs": [],
      "source": [
        "train_weights = create_W(train_tweets_vocab, word_emb, N_EMBEDDINGS)"
      ]
    },
    {
      "cell_type": "code",
      "execution_count": 80,
      "metadata": {
        "id": "wTC9sSg66KfZ"
      },
      "outputs": [],
      "source": [
        "def tweet2ids(tweet, id_map):\n",
        "  ids = []\n",
        "  for w in tweet.split():\n",
        "    if w in id_map:\n",
        "      ids.append(id_map[w])\n",
        "    else:\n",
        "      ids.append(id_map['<unknown>'])\n",
        "\n",
        "  return ids if len(ids) else [0]\n",
        "\n",
        "def tweet2embedding(tweet, embedding_layer):\n",
        "  return embedding_layer(torch.LongTensor(tweet2ids(tweet, word2idx)).to(device)).mean(axis=0)"
      ]
    },
    {
      "cell_type": "markdown",
      "metadata": {
        "id": "iT9d-ZjuHYq9"
      },
      "source": [
        "### FeedForward with Embeddings Template Class\n",
        "\n",
        "Following we provide the user with a template to create his own NN with embeddings by just providing basic parameters and an embeddings layer"
      ]
    },
    {
      "cell_type": "code",
      "execution_count": 81,
      "metadata": {
        "id": "AHwapIBSSK5O"
      },
      "outputs": [],
      "source": [
        "class FeedforwardwEmbeddings(Feedforward):\n",
        "  def __init__(self, embeddings, input_size, hidden_sizes, n_hidden_layers=1, activation=torch.nn.ReLU, verbose=False):\n",
        "    super(FeedforwardwEmbeddings, self).__init__(input_size, hidden_sizes, n_hidden_layers, activation, verbose)\n",
        "    self.embeddings = embeddings\n",
        "    self.input_size = input_size\n",
        "    self.hidden_sizes  = hidden_sizes\n",
        "    self.n_hidden_layers = n_hidden_layers\n",
        "    self.verbose = verbose\n",
        "    self.inpt = None\n",
        "    self.in_eval = False \n",
        "\n",
        "  def toEmbeddings(self, tweets):\n",
        "    return torch.stack([\n",
        "                        tweet2embedding(x_i, self.embeddings) for x_i in tweets\n",
        "    ])\n"
      ]
    },
    {
      "cell_type": "markdown",
      "metadata": {
        "id": "qd9GQ6gDHyer"
      },
      "source": [
        "#### Model 1 w Embeddings\n",
        "\n",
        "Shallow NN with 3 hidden layer of $1024$ nodes and $ReLU$ activation. "
      ]
    },
    {
      "cell_type": "code",
      "execution_count": 82,
      "metadata": {
        "id": "XUrlW9L3TqQW"
      },
      "outputs": [],
      "source": [
        "embedding_layer = create_embedding_layer(train_weights, False)"
      ]
    },
    {
      "cell_type": "code",
      "execution_count": 116,
      "metadata": {
        "id": "YDL8N-5iSmp-"
      },
      "outputs": [],
      "source": [
        "model_emb1 = FeedforwardwEmbeddings(embedding_layer, N_EMBEDDINGS, [1024, 1024, 1024], n_hidden_layers=3, activation=torch.nn.ReLU)\n",
        "model_emb1.to(device)\n",
        "\n",
        "history3={'train':[], 'test':[]}\n"
      ]
    },
    {
      "cell_type": "code",
      "execution_count": 84,
      "metadata": {
        "id": "tdRCipjOdTGg"
      },
      "outputs": [],
      "source": [
        "D_train_2 = ClassifierDataset(model_emb1.toEmbeddings(train_tweets), y_train[:, 0])\n",
        "train_loader_2 = torch.utils.data.DataLoader(D_train_2, batch_size=512)\n",
        "\n",
        "D_test_2 = ClassifierDataset(model_emb1.toEmbeddings(test_tweets), y_test[:, 0])\n",
        "test_loader_2 = torch.utils.data.DataLoader(D_test_2, batch_size=512)\n"
      ]
    },
    {
      "cell_type": "code",
      "execution_count": 117,
      "metadata": {
        "colab": {
          "base_uri": "https://localhost:8080/"
        },
        "id": "NXd8ZviZEMNR",
        "outputId": "240e5487-eecf-4f18-a286-b8f3eb516bcb"
      },
      "outputs": [
        {
          "name": "stderr",
          "output_type": "stream",
          "text": [
            "Epoch 199: train loss: 0.7255320325493813, test_loss: 0.7834700107574463: 100%|██████████| 200/200 [00:52<00:00,  3.83it/s]\n"
          ]
        }
      ],
      "source": [
        "# set to training mode\n",
        "model_emb1.train()\n",
        "criterion = torch.nn.CrossEntropyLoss()\n",
        "\n",
        "optimizer = torch.optim.SGD(model_emb1.parameters(), lr = 0.003)\n",
        "\n",
        "pbar = tqdm(range(200))\n",
        "for epoch in pbar:\n",
        "  train_loss, test_loss = model_emb1.trainning_step(optimizer, criterion, epoch, train_loader_2, test_loader_2, history3)\n",
        "  pbar.set_description('Epoch {}: train loss: {}, test_loss: {}'.format(epoch, train_loss, test_loss), refresh=True)"
      ]
    },
    {
      "cell_type": "markdown",
      "metadata": {
        "id": "nQw9MTrRH-L2"
      },
      "source": [
        "#### Model 2\n",
        "Last model has 2 hidden layers with $200 \\times 200$ total nodes and $LeakyReLU$ activation."
      ]
    },
    {
      "cell_type": "code",
      "execution_count": 122,
      "metadata": {
        "id": "ASQYpiHL7ppf"
      },
      "outputs": [],
      "source": [
        "model_emb2 = FeedforwardwEmbeddings(embedding_layer, N_EMBEDDINGS, [200, 200], n_hidden_layers=2, activation=torch.nn.LeakyReLU)\n",
        "model_emb2.to(device)\n",
        "\n",
        "history4={'train':[], 'test':[]}"
      ]
    },
    {
      "cell_type": "code",
      "execution_count": 123,
      "metadata": {
        "colab": {
          "base_uri": "https://localhost:8080/"
        },
        "id": "h5unmsOx73r-",
        "outputId": "b924de04-e364-49ee-a6c5-1ff02efdc690"
      },
      "outputs": [
        {
          "name": "stderr",
          "output_type": "stream",
          "text": [
            "Epoch 99: train loss: 0.5138290105387568, test_loss: 0.807027268409729: 100%|██████████| 100/100 [00:23<00:00,  4.28it/s]\n"
          ]
        }
      ],
      "source": [
        "# set to training mode\n",
        "model_emb2.train()\n",
        "criterion = torch.nn.CrossEntropyLoss()\n",
        "\n",
        "optimizer = torch.optim.Adam(model_emb2.parameters(), lr = 0.0001)\n",
        "\n",
        "pbar = tqdm(range(100))\n",
        "for epoch in pbar:\n",
        "  train_loss, test_loss = model_emb2.trainning_step(optimizer, criterion, epoch, train_loader_2, test_loader_2, history4)\n",
        "  pbar.set_description('Epoch {}: train loss: {}, test_loss: {}'.format(epoch, train_loss, test_loss), refresh=True)"
      ]
    },
    {
      "cell_type": "markdown",
      "metadata": {
        "id": "Cn6KsK0ZIYsr"
      },
      "source": [
        "## Evaluation\n",
        "\n",
        "We proceed by evaluating the models with f1-score, recall, precision."
      ]
    },
    {
      "cell_type": "markdown",
      "metadata": {
        "id": "HY7BucwSK3K4"
      },
      "source": [
        "### F1-Score, Precision, Recall"
      ]
    },
    {
      "cell_type": "code",
      "execution_count": 124,
      "metadata": {
        "id": "U-L5LoFZFVkd"
      },
      "outputs": [],
      "source": [
        "def print_stats(model, X, y):\n",
        "  softmax = torch.nn.Softmax(dim=1).to(device)\n",
        "  y_pred_proba = softmax(model(X)).detach().cpu().numpy()\n",
        "  y_pred = y_pred_proba.argmax(axis=1).reshape((-1, 1))\n",
        "  print(classification_report(y, y_pred, target_names=['neutral', 'anti-vax', 'pro-vax']))"
      ]
    },
    {
      "cell_type": "markdown",
      "metadata": {
        "id": "hOGsQihlJYQ-"
      },
      "source": [
        "#### Model 1 w\\ BoW"
      ]
    },
    {
      "cell_type": "code",
      "execution_count": 125,
      "metadata": {
        "colab": {
          "base_uri": "https://localhost:8080/"
        },
        "id": "MSUkwLr2t4zo",
        "outputId": "78099dee-0967-4fd1-926a-58170b3c6adb"
      },
      "outputs": [
        {
          "name": "stdout",
          "output_type": "stream",
          "text": [
            "Model1 w\\out embeddings:\n",
            "              precision    recall  f1-score   support\n",
            "\n",
            "     neutral       0.76      0.77      0.76      1065\n",
            "    anti-vax       0.57      0.35      0.43       296\n",
            "     pro-vax       0.66      0.72      0.69       921\n",
            "\n",
            "    accuracy                           0.70      2282\n",
            "   macro avg       0.66      0.61      0.63      2282\n",
            "weighted avg       0.69      0.70      0.69      2282\n",
            "\n"
          ]
        }
      ],
      "source": [
        "print(\"Model1 w\\out embeddings:\")\n",
        "model1.eval()\n",
        "print_stats(model1, X_test_1, y_test)"
      ]
    },
    {
      "cell_type": "markdown",
      "metadata": {
        "id": "Vqa6QzklJcUF"
      },
      "source": [
        "#### Model 2 w\\ BoW"
      ]
    },
    {
      "cell_type": "code",
      "execution_count": 126,
      "metadata": {
        "colab": {
          "base_uri": "https://localhost:8080/"
        },
        "id": "Bh4VG8gfXF1S",
        "outputId": "6414128b-506d-4a44-aae6-2991bc76f58c"
      },
      "outputs": [
        {
          "name": "stdout",
          "output_type": "stream",
          "text": [
            "Model2 w\\out embeddings:\n",
            "              precision    recall  f1-score   support\n",
            "\n",
            "     neutral       0.77      0.75      0.76      1065\n",
            "    anti-vax       0.52      0.39      0.45       296\n",
            "     pro-vax       0.65      0.72      0.68       921\n",
            "\n",
            "    accuracy                           0.69      2282\n",
            "   macro avg       0.65      0.62      0.63      2282\n",
            "weighted avg       0.69      0.69      0.69      2282\n",
            "\n"
          ]
        }
      ],
      "source": [
        "print(\"Model2 w\\out embeddings:\")\n",
        "model2.eval()\n",
        "print_stats(model2, X_test_1, y_test)"
      ]
    },
    {
      "cell_type": "markdown",
      "metadata": {
        "id": "7asn46EsJd6D"
      },
      "source": [
        "#### Model 1 w\\ Embeddings"
      ]
    },
    {
      "cell_type": "code",
      "execution_count": 127,
      "metadata": {
        "colab": {
          "base_uri": "https://localhost:8080/"
        },
        "id": "c-qpSvjuEsbS",
        "outputId": "7b4a17c1-9c45-4076-9549-b636a68ba6d0"
      },
      "outputs": [
        {
          "name": "stdout",
          "output_type": "stream",
          "text": [
            "Model1 w\\ embeddings:\n",
            "              precision    recall  f1-score   support\n",
            "\n",
            "     neutral       0.83      0.61      0.70      1065\n",
            "    anti-vax       0.57      0.23      0.33       296\n",
            "     pro-vax       0.57      0.85      0.68       921\n",
            "\n",
            "    accuracy                           0.66      2282\n",
            "   macro avg       0.66      0.56      0.57      2282\n",
            "weighted avg       0.69      0.66      0.65      2282\n",
            "\n"
          ]
        }
      ],
      "source": [
        "print(\"Model1 w\\ embeddings:\")\n",
        "model_emb1.eval()\n",
        "print_stats(model_emb1, model_emb1.toEmbeddings(test_tweets), y_test)"
      ]
    },
    {
      "cell_type": "markdown",
      "metadata": {
        "id": "i65muToSJht9"
      },
      "source": [
        "#### Model 2 w\\ Embeddings"
      ]
    },
    {
      "cell_type": "code",
      "execution_count": 128,
      "metadata": {
        "colab": {
          "base_uri": "https://localhost:8080/"
        },
        "id": "Crqpbg1f-VKU",
        "outputId": "fa159248-c08f-45b8-d848-d3b3354e3107"
      },
      "outputs": [
        {
          "name": "stdout",
          "output_type": "stream",
          "text": [
            "Model2 w\\ embeddings:\n",
            "              precision    recall  f1-score   support\n",
            "\n",
            "     neutral       0.78      0.72      0.75      1065\n",
            "    anti-vax       0.59      0.30      0.40       296\n",
            "     pro-vax       0.62      0.77      0.68       921\n",
            "\n",
            "    accuracy                           0.68      2282\n",
            "   macro avg       0.66      0.60      0.61      2282\n",
            "weighted avg       0.69      0.68      0.68      2282\n",
            "\n"
          ]
        }
      ],
      "source": [
        "print(\"Model2 w\\ embeddings:\")\n",
        "model_emb2.eval()\n",
        "print_stats(model_emb2, model_emb2.toEmbeddings(test_tweets), y_test)"
      ]
    },
    {
      "cell_type": "markdown",
      "metadata": {
        "id": "VNTUirloJjiM"
      },
      "source": [
        "### Loss vs Epochs\n",
        "\n",
        "We will display the Loss vs Epochs-Curves for all of our models. For Explaination and Results check README.pdf"
      ]
    },
    {
      "cell_type": "code",
      "execution_count": 129,
      "metadata": {
        "id": "iy1agmyqVBme"
      },
      "outputs": [],
      "source": [
        "#printing loss curves\n",
        "\n",
        "def graph_loss(history, ax):\n",
        "  # we will print the error vs epoch plot \n",
        "  train_loss = history['train']\n",
        "  test_loss = history['test']\n",
        "  epochs = np.arange(len(train_loss))\n",
        "  \n",
        "  #train loss vs epochs\n",
        "  ax.plot(epochs, train_loss, epochs, test_loss, 'orange')\n",
        "  ax.set_xlabel('Epochs')\n",
        "  ax.set_ylabel('Cross Entropy Loss')\n",
        "  plt.legend([\"Train\", \"Test\"])\n",
        "\n"
      ]
    },
    {
      "cell_type": "markdown",
      "metadata": {
        "id": "rPv_DuDfJyYe"
      },
      "source": [
        "#### Model 1 w\\ BoW"
      ]
    },
    {
      "cell_type": "code",
      "execution_count": 130,
      "metadata": {
        "colab": {
          "base_uri": "https://localhost:8080/",
          "height": 312
        },
        "id": "D_qe6G4jh4sO",
        "outputId": "ed26c594-1a49-4161-abba-def42c528116"
      },
      "outputs": [
        {
          "data": {
            "text/plain": [
              "Text(0.5, 1.0, 'Loss vs Epochs for model 1')"
            ]
          },
          "execution_count": 130,
          "metadata": {},
          "output_type": "execute_result"
        },
        {
          "data": {
            "image/png": "[encoded data removed]",
            "text/plain": [
              "<Figure size 432x288 with 1 Axes>"
            ]
          },
          "metadata": {
            "needs_background": "light"
          },
          "output_type": "display_data"
        }
      ],
      "source": [
        "fig, ax = plt.subplots(1, 1)\n",
        "graph_loss(history1, ax)\n",
        "ax.set_title(\"Loss vs Epochs for model 1\")\n"
      ]
    },
    {
      "cell_type": "markdown",
      "metadata": {
        "id": "Uu1OFWVIJzTE"
      },
      "source": [
        "#### Model 2 w\\ BoW"
      ]
    },
    {
      "cell_type": "code",
      "execution_count": 131,
      "metadata": {
        "colab": {
          "base_uri": "https://localhost:8080/",
          "height": 312
        },
        "id": "ZQ-HpnPuh9on",
        "outputId": "40f4dacc-db9a-4845-9d27-a1e28422f416"
      },
      "outputs": [
        {
          "data": {
            "text/plain": [
              "Text(0.5, 1.0, 'Loss vs Epochs for model 2')"
            ]
          },
          "execution_count": 131,
          "metadata": {},
          "output_type": "execute_result"
        },
        {
          "data": {
            "image/png": "[encoded data removed]",
            "text/plain": [
              "<Figure size 432x288 with 1 Axes>"
            ]
          },
          "metadata": {
            "needs_background": "light"
          },
          "output_type": "display_data"
        }
      ],
      "source": [
        "fig, ax = plt.subplots(1, 1)\n",
        "graph_loss(history2, ax)\n",
        "ax.set_title(\"Loss vs Epochs for model 2\")"
      ]
    },
    {
      "cell_type": "markdown",
      "metadata": {
        "id": "uiE-udCrJ3Nl"
      },
      "source": [
        "#### Model 1 w\\ Embeddings"
      ]
    },
    {
      "cell_type": "code",
      "execution_count": 132,
      "metadata": {
        "colab": {
          "base_uri": "https://localhost:8080/",
          "height": 312
        },
        "id": "jV6M0OGc3_Mx",
        "outputId": "ab7fa450-fa23-49a9-d372-74e10c966acb"
      },
      "outputs": [
        {
          "data": {
            "text/plain": [
              "Text(0.5, 1.0, 'Loss vs Epochs for model w\\\\ embeddings 1')"
            ]
          },
          "execution_count": 132,
          "metadata": {},
          "output_type": "execute_result"
        },
        {
          "data": {
            "image/png": "[encoded data removed]",
            "text/plain": [
              "<Figure size 432x288 with 1 Axes>"
            ]
          },
          "metadata": {
            "needs_background": "light"
          },
          "output_type": "display_data"
        }
      ],
      "source": [
        "fig, ax = plt.subplots(1, 1)\n",
        "graph_loss(history3, ax)\n",
        "ax.set_title(\"Loss vs Epochs for model w\\ embeddings 1\")"
      ]
    },
    {
      "cell_type": "markdown",
      "metadata": {
        "id": "qqsrJ5X6J1OD"
      },
      "source": [
        "#### Model 2 w\\ Embeddings"
      ]
    },
    {
      "cell_type": "code",
      "execution_count": 133,
      "metadata": {
        "colab": {
          "base_uri": "https://localhost:8080/",
          "height": 312
        },
        "id": "kDw_TMuZ6c6Z",
        "outputId": "b9bd16c5-3c89-46ca-8e53-506c221ed666"
      },
      "outputs": [
        {
          "data": {
            "text/plain": [
              "Text(0.5, 1.0, 'Loss vs Epochs for model w\\\\ embeddings 2')"
            ]
          },
          "execution_count": 133,
          "metadata": {},
          "output_type": "execute_result"
        },
        {
          "data": {
            "image/png": "[encoded data removed]",
            "text/plain": [
              "<Figure size 432x288 with 1 Axes>"
            ]
          },
          "metadata": {
            "needs_background": "light"
          },
          "output_type": "display_data"
        }
      ],
      "source": [
        "fig, ax = plt.subplots(1, 1)\n",
        "graph_loss(history4, ax)\n",
        "ax.set_title(\"Loss vs Epochs for model w\\ embeddings 2\")"
      ]
    },
    {
      "cell_type": "markdown",
      "metadata": {
        "id": "XvUJJo-CKR8-"
      },
      "source": [
        "### ROC Curves\n",
        "\n",
        "Finaly we will display the ROC-Curves to explain our models predictive power. For extra notes on ROC-Curves check README.pdf"
      ]
    },
    {
      "cell_type": "code",
      "execution_count": 134,
      "metadata": {
        "id": "UYJNn8OT-BWz"
      },
      "outputs": [],
      "source": [
        "def graph_roc(model, X, y_test, n_classes=3):\n",
        "  from sklearn.metrics import auc\n",
        "  try:\n",
        "    softmax = torch.nn.Softmax(dim=1).to(device)\n",
        "    y_score = softmax(model(X)).detach().cpu().numpy()\n",
        "  except:\n",
        "    y_score = model.predict_proba(X)\n",
        "    \n",
        "  print(y_test.size)\n",
        "  y_test_one_hot = np.zeros((y_test.size, n_classes), dtype=np.int8)\n",
        "  y_test_one_hot[np.arange(y_test.size), y_test.reshape(-1)] = 1\n",
        "  fpr = dict()\n",
        "  tpr = dict()\n",
        "  roc_auc = dict()\n",
        "  graph_args = []\n",
        "\n",
        "  for i in range(n_classes):\n",
        "      fpr[i], tpr[i], _ = roc_curve(y_test_one_hot[:, i], y_score[:, i])\n",
        "      roc_auc[i] = auc(fpr[i], tpr[i])\n",
        "\n",
        "  fig, ax = plt.subplots(1, 1, figsize=(7, 5))\n",
        "  ax.plot(fpr[0], tpr[0], fpr[1], tpr[1], 'orange', fpr[2], tpr[2], 'aqua', np.arange(0,2,0.2), np.arange(0,2,0.2), '--k')\n",
        "  ax.legend([\n",
        "             f\"ROC-Class 'Neutral' (area = {np.round(roc_auc[0], 3)})\",\n",
        "             f\"ROC-Class 'Anti-Vax' (area = {np.round(roc_auc[1], 3)})\",\n",
        "             f\"ROC-Class 'Pro-Vax' (area = {np.round(roc_auc[2], 3)})\"\n",
        "  ])\n",
        "  plt.xlim([0.0, 1.0])\n",
        "  plt.ylim([0.0, 1.05])"
      ]
    },
    {
      "cell_type": "markdown",
      "metadata": {
        "id": "ph-pRZKmKjug"
      },
      "source": [
        "#### Model 1 w\\ BoW"
      ]
    },
    {
      "cell_type": "code",
      "execution_count": 135,
      "metadata": {
        "colab": {
          "base_uri": "https://localhost:8080/",
          "height": 371
        },
        "id": "l6SkllE4FqlG",
        "outputId": "54c9ba01-25bc-41e3-a84b-57e1680a2a48"
      },
      "outputs": [
        {
          "name": "stdout",
          "output_type": "stream",
          "text": [
            "2282\n"
          ]
        },
        {
          "data": {
            "text/plain": [
              "Text(0.5, 1.0, 'ROC for model 1')"
            ]
          },
          "execution_count": 135,
          "metadata": {},
          "output_type": "execute_result"
        },
        {
          "data": {
            "image/png": "[encoded data removed]",
            "text/plain": [
              "<Figure size 504x360 with 1 Axes>"
            ]
          },
          "metadata": {
            "needs_background": "light"
          },
          "output_type": "display_data"
        }
      ],
      "source": [
        "graph_roc(model1, X_test_1, y_test)\n",
        "plt.title(\"ROC for model 1\")"
      ]
    },
    {
      "cell_type": "markdown",
      "metadata": {
        "id": "Tw_ndSvaKkh_"
      },
      "source": [
        "#### Model 2 w\\ BoW"
      ]
    },
    {
      "cell_type": "code",
      "execution_count": 136,
      "metadata": {
        "colab": {
          "base_uri": "https://localhost:8080/",
          "height": 371
        },
        "id": "9cvZfgyLLP8g",
        "outputId": "18020576-2a3c-4dc3-8a6f-1f40a5ddb711"
      },
      "outputs": [
        {
          "name": "stdout",
          "output_type": "stream",
          "text": [
            "2282\n"
          ]
        },
        {
          "data": {
            "text/plain": [
              "Text(0.5, 1.0, 'ROC for model 2')"
            ]
          },
          "execution_count": 136,
          "metadata": {},
          "output_type": "execute_result"
        },
        {
          "data": {
            "image/png": "[encoded data removed]",
            "text/plain": [
              "<Figure size 504x360 with 1 Axes>"
            ]
          },
          "metadata": {
            "needs_background": "light"
          },
          "output_type": "display_data"
        }
      ],
      "source": [
        "graph_roc(model2, X_test_1, y_test)\n",
        "plt.title(\"ROC for model 2\")"
      ]
    },
    {
      "cell_type": "markdown",
      "metadata": {
        "id": "8IWelu_2KnLR"
      },
      "source": [
        "#### Model 1 w\\ Embeddings"
      ]
    },
    {
      "cell_type": "code",
      "execution_count": 137,
      "metadata": {
        "colab": {
          "base_uri": "https://localhost:8080/",
          "height": 371
        },
        "id": "0PAnT0jqLWFX",
        "outputId": "8f9777a8-0228-4329-cd04-761e7fc36e67"
      },
      "outputs": [
        {
          "name": "stdout",
          "output_type": "stream",
          "text": [
            "2282\n"
          ]
        },
        {
          "data": {
            "text/plain": [
              "Text(0.5, 1.0, 'ROC for model w\\\\ embeddings 1')"
            ]
          },
          "execution_count": 137,
          "metadata": {},
          "output_type": "execute_result"
        },
        {
          "data": {
            "image/png": "[encoded data removed]",
            "text/plain": [
              "<Figure size 504x360 with 1 Axes>"
            ]
          },
          "metadata": {
            "needs_background": "light"
          },
          "output_type": "display_data"
        }
      ],
      "source": [
        "graph_roc(model_emb1, model_emb1.toEmbeddings(test_tweets), y_test)\n",
        "plt.title(\"ROC for model w\\ embeddings 1\")"
      ]
    },
    {
      "cell_type": "markdown",
      "metadata": {
        "id": "zJwYfpLkKmZe"
      },
      "source": [
        "#### Model 2 w\\ Embeddings"
      ]
    },
    {
      "cell_type": "code",
      "execution_count": 138,
      "metadata": {
        "colab": {
          "base_uri": "https://localhost:8080/",
          "height": 371
        },
        "id": "vlBubsF0LiwY",
        "outputId": "4be0df77-9010-4f0b-8561-38b86ae265a4"
      },
      "outputs": [
        {
          "name": "stdout",
          "output_type": "stream",
          "text": [
            "2282\n"
          ]
        },
        {
          "data": {
            "text/plain": [
              "Text(0.5, 1.0, 'ROC for model w\\\\ embeddings 2')"
            ]
          },
          "execution_count": 138,
          "metadata": {},
          "output_type": "execute_result"
        },
        {
          "data": {
            "image/png": "[encoded data removed]",
            "text/plain": [
              "<Figure size 504x360 with 1 Axes>"
            ]
          },
          "metadata": {
            "needs_background": "light"
          },
          "output_type": "display_data"
        }
      ],
      "source": [
        "graph_roc(model_emb2, model_emb2.toEmbeddings(test_tweets), y_test)\n",
        "plt.title(\"ROC for model w\\ embeddings 2\")"
      ]
    },
    {
      "cell_type": "markdown",
      "metadata": {
        "id": "EpL35rOrffgo"
      },
      "source": [
        "#### Softmax model"
      ]
    },
    {
      "cell_type": "code",
      "execution_count": 139,
      "metadata": {
        "colab": {
          "base_uri": "https://localhost:8080/",
          "height": 371
        },
        "id": "vvyeQFTNctrJ",
        "outputId": "50da571a-d8a2-4805-f981-9d7a1c19f81a"
      },
      "outputs": [
        {
          "name": "stdout",
          "output_type": "stream",
          "text": [
            "2282\n"
          ]
        },
        {
          "data": {
            "text/plain": [
              "Text(0.5, 1.0, 'ROC for Softmax model')"
            ]
          },
          "execution_count": 139,
          "metadata": {},
          "output_type": "execute_result"
        },
        {
          "data": {
            "image/png": "[encoded data removed]",
            "text/plain": [
              "<Figure size 504x360 with 1 Axes>"
            ]
          },
          "metadata": {
            "needs_background": "light"
          },
          "output_type": "display_data"
        }
      ],
      "source": [
        "graph_roc(model_count, X_test_count, y_test)\n",
        "plt.title(\"ROC for Softmax model\")"
      ]
    },
    {
      "cell_type": "markdown",
      "metadata": {
        "id": "TDTHJTC6gUhb"
      },
      "source": [
        "### Notes\n",
        "\n",
        "As we can see from the overall evaluation all 4 models are quite sensitive to perturbations around tweets of class \"anti-vax\" and that is realized when we study the classification report results where precision and recall are quite low, while f1-score is of the lowest among 3 classes. \n",
        "\n",
        "Furthermore, we can see that we cannot hit higher scores with embedding models, which perform a little worse than BoW models. This happens because we don't consider the 'time'-context of the embeddings apearance and only trying to aggregate a result, where some of them might skew the resulting vector toward a wrong direction, resulting in instance misclassification.\n",
        "\n",
        "By studing the learning curves we can see that most models fit correctly without over/under - fit problems and this fact also supports our prior conclusion, that the models aren't complex enough (even when using word embeddings) to overcome the classification thresholds we observed."
      ]
    },
    {
      "cell_type": "code",
      "execution_count": 139,
      "metadata": {
        "id": "cN5FY3REk0mO"
      },
      "outputs": [],
      "source": []
    }
  ],
  "metadata": {
    "accelerator": "GPU",
    "colab": {
      "collapsed_sections": [],
      "name": "AI2_Ex2.ipynb",
      "provenance": [],
      "toc_visible": true
    },
    "kernelspec": {
      "display_name": "Python 3",
      "name": "python3"
    },
    "language_info": {
      "name": "python"
    }
  },
  "nbformat": 4,
  "nbformat_minor": 0
}
