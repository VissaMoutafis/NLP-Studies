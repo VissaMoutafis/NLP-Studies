{
  "nbformat": 4,
  "nbformat_minor": 0,
  "metadata": {
    "colab": {
      "name": "AI2_Ex1.ipynb",
      "provenance": [],
      "collapsed_sections": [],
      "toc_visible": true
    },
    "kernelspec": {
      "name": "python3",
      "display_name": "Python 3"
    },
    "language_info": {
      "name": "python"
    }
  },
  "cells": [
    {
      "cell_type": "markdown",
      "metadata": {
        "id": "T5aVFTm-6Ku-"
      },
      "source": [
        "# Assignment 1 - AI2\n",
        "\n",
        "__Student's Credentials__: Vissarion Moutafis - sdi1800119\n",
        "\n",
        "In this assignment we will try to create an effective ML pipeline that will get a raw sentence and will predict whether the sentence is pro-vaccine or anti-vaccine or neutral. The training corpus comes from twitter, as well as the evaluation dataset."
      ]
    },
    {
      "cell_type": "code",
      "metadata": {
        "id": "Dx2HHHxESs57",
        "colab": {
          "base_uri": "https://localhost:8080/"
        },
        "outputId": "27369824-e392-4119-bca2-9eca31870086"
      },
      "source": [
        "import pandas as pd\n",
        "import numpy as np \n",
        "import matplotlib.pyplot as plt\n",
        "import seaborn\n",
        "import re\n",
        "\n",
        "from sklearn.pipeline import Pipeline\n",
        "from sklearn.model_selection import train_test_split\n",
        "from sklearn.feature_extraction.text import CountVectorizer, HashingVectorizer, TfidfVectorizer\n",
        "from sklearn.linear_model import LogisticRegression\n",
        "from sklearn.metrics import f1_score, precision_score, accuracy_score, confusion_matrix, recall_score, log_loss\n",
        "from sklearn.decomposition import PCA\n",
        "from sklearn.model_selection import learning_curve\n",
        "from sklearn.preprocessing import StandardScaler\n",
        "\n",
        "\n",
        "import nltk\n",
        "from nltk.stem.snowball import SnowballStemmer \n",
        "from nltk.stem import WordNetLemmatizer\n",
        "from nltk.corpus import stopwords\n",
        "\n",
        "seaborn.set_style(\"ticks\")\n",
        "nltk.download(\"stopwords\")\n",
        "nltk.download(\"wordnet\")"
      ],
      "execution_count": 3,
      "outputs": [
        {
          "output_type": "stream",
          "name": "stdout",
          "text": [
            "[nltk_data] Downloading package stopwords to /root/nltk_data...\n",
            "[nltk_data]   Package stopwords is already up-to-date!\n",
            "[nltk_data] Downloading package wordnet to /root/nltk_data...\n",
            "[nltk_data]   Package wordnet is already up-to-date!\n"
          ]
        },
        {
          "output_type": "execute_result",
          "data": {
            "text/plain": [
              "True"
            ]
          },
          "metadata": {},
          "execution_count": 3
        }
      ]
    },
    {
      "cell_type": "markdown",
      "metadata": {
        "id": "OixJKZnQ6C4d"
      },
      "source": [
        "## Data Preprocessing and Feature Extraction"
      ]
    },
    {
      "cell_type": "code",
      "metadata": {
        "colab": {
          "base_uri": "https://localhost:8080/"
        },
        "id": "FvP1XLxCL2eG",
        "outputId": "ff76f925-2b19-4f26-c2a0-35ddd06153fa"
      },
      "source": [
        "from google.colab import drive\n",
        "drive.mount('/content/drive')"
      ],
      "execution_count": 4,
      "outputs": [
        {
          "output_type": "stream",
          "name": "stdout",
          "text": [
            "Mounted at /content/drive\n"
          ]
        }
      ]
    },
    {
      "cell_type": "code",
      "metadata": {
        "id": "ITLQcdfReRYa"
      },
      "source": [
        "# CHANGE THIS ONLY\n",
        "dir_path = \"/content/drive/MyDrive/Collab-Datasets/Vaccine Sentiment Dataset/\"\n"
      ],
      "execution_count": 5,
      "outputs": []
    },
    {
      "cell_type": "code",
      "metadata": {
        "id": "Tc3AugvnTCCm"
      },
      "source": [
        "train_dt_path = dir_path + \"vs_train.csv\"\n",
        "test_dt_path = dir_path + \"vs_dev.csv\"\n",
        "\n",
        "LABELS = ['neutral', 'anti-vax', 'pro-vax']"
      ],
      "execution_count": 6,
      "outputs": []
    },
    {
      "cell_type": "code",
      "metadata": {
        "id": "WY7zmQeVTIjr",
        "colab": {
          "base_uri": "https://localhost:8080/",
          "height": 206
        },
        "outputId": "9001920a-731a-41d7-dc29-737fe832346d"
      },
      "source": [
        "train_df_raw = pd.read_csv(train_dt_path, index_col=0)\n",
        "test_df_raw = pd.read_csv(test_dt_path, index_col=0)\n",
        "\n",
        "train_df_raw.head()"
      ],
      "execution_count": 7,
      "outputs": [
        {
          "output_type": "execute_result",
          "data": {
            "text/html": [
              "<div>\n",
              "<style scoped>\n",
              "    .dataframe tbody tr th:only-of-type {\n",
              "        vertical-align: middle;\n",
              "    }\n",
              "\n",
              "    .dataframe tbody tr th {\n",
              "        vertical-align: top;\n",
              "    }\n",
              "\n",
              "    .dataframe thead th {\n",
              "        text-align: right;\n",
              "    }\n",
              "</style>\n",
              "<table border=\"1\" class=\"dataframe\">\n",
              "  <thead>\n",
              "    <tr style=\"text-align: right;\">\n",
              "      <th></th>\n",
              "      <th>tweet</th>\n",
              "      <th>label</th>\n",
              "    </tr>\n",
              "  </thead>\n",
              "  <tbody>\n",
              "    <tr>\n",
              "      <th>0</th>\n",
              "      <td>Sip N Shop Come thru right now #Marjais #Popul...</td>\n",
              "      <td>0</td>\n",
              "    </tr>\n",
              "    <tr>\n",
              "      <th>1</th>\n",
              "      <td>I don't know about you but My family and I wil...</td>\n",
              "      <td>1</td>\n",
              "    </tr>\n",
              "    <tr>\n",
              "      <th>2</th>\n",
              "      <td>@MSignorile Immunizations should be mandatory....</td>\n",
              "      <td>2</td>\n",
              "    </tr>\n",
              "    <tr>\n",
              "      <th>3</th>\n",
              "      <td>President Obama spoke in favor of vaccination ...</td>\n",
              "      <td>0</td>\n",
              "    </tr>\n",
              "    <tr>\n",
              "      <th>4</th>\n",
              "      <td>\"@myfoxla: Arizona monitoring hundreds for mea...</td>\n",
              "      <td>0</td>\n",
              "    </tr>\n",
              "  </tbody>\n",
              "</table>\n",
              "</div>"
            ],
            "text/plain": [
              "                                               tweet  label\n",
              "0  Sip N Shop Come thru right now #Marjais #Popul...      0\n",
              "1  I don't know about you but My family and I wil...      1\n",
              "2  @MSignorile Immunizations should be mandatory....      2\n",
              "3  President Obama spoke in favor of vaccination ...      0\n",
              "4  \"@myfoxla: Arizona monitoring hundreds for mea...      0"
            ]
          },
          "metadata": {},
          "execution_count": 7
        }
      ]
    },
    {
      "cell_type": "code",
      "metadata": {
        "id": "IO3tjsmFXKBL"
      },
      "source": [
        "# get test/test X and y\n",
        "X_train_raw, y_train = train_df_raw[\"tweet\"].to_numpy().reshape((-1,1)), train_df_raw[\"label\"].to_numpy().reshape((-1,1))\n",
        "X_test_raw, y_test = test_df_raw[\"tweet\"].to_numpy().reshape((-1,1)), test_df_raw[\"label\"].to_numpy().reshape((-1,1))"
      ],
      "execution_count": 8,
      "outputs": []
    },
    {
      "cell_type": "markdown",
      "metadata": {
        "id": "hFdz2imgMyeH"
      },
      "source": [
        "### Data Cleaning\n",
        "\n",
        "Actions Taken to clean sentences:\n",
        "\n",
        "- All to lower case\n",
        "- Remove http(s):// since its useless\n",
        "- Separate URL parts since there might be some hidden features there\n",
        "- Remove specific stopwords\n",
        "- Remove punctuation"
      ]
    },
    {
      "cell_type": "code",
      "metadata": {
        "id": "wKEk_BknWmu4"
      },
      "source": [
        "sw = set([re.sub(r'[^\\w\\s]', '', w) for w in stopwords.words(\"english\")]) - {\"no\", \"yes\", 'dont', 'didnt', 'wasnt', 'wont', 'will', 'not', 'can', 'cannot', 'should', 'shouldnt'}\n",
        "lemmatizer = WordNetLemmatizer()"
      ],
      "execution_count": 9,
      "outputs": []
    },
    {
      "cell_type": "code",
      "metadata": {
        "id": "Q4dGvQcBHX3H"
      },
      "source": [
        "def clean_tweet(tweet):\n",
        "  all_lower_s = str(tweet).lower().strip(' ').strip('\\t') # all to lowercase\n",
        "  no_http_s = re.sub(r'http://|https://', '', all_lower_s) # keep only the part after http(s), for space efficiency \n",
        "  no_http_s = re.sub(r'/', ' ', no_http_s) # separate domain from link ending\n",
        "  no_punctuation_s = re.sub(r'[^\\w\\s]', '', no_http_s) # remove punctuation\n",
        "  no_stopwords_s = ' '.join([w for w in no_punctuation_s.split() if not w in sw]) \n",
        "    \n",
        "  return \" \".join([lemmatizer.lemmatize(w, pos='v') for w in no_stopwords_s.split()])\n",
        "\n",
        "def clean_tweets(X):\n",
        "  return np.apply_along_axis(clean_tweet, 1, X)"
      ],
      "execution_count": 10,
      "outputs": []
    },
    {
      "cell_type": "code",
      "metadata": {
        "id": "K7oTS1CLPu1R"
      },
      "source": [
        "# clean the tweets\n",
        "cleaned_tweets = clean_tweets(X_train_raw)"
      ],
      "execution_count": 11,
      "outputs": []
    },
    {
      "cell_type": "markdown",
      "metadata": {
        "id": "iMWMdmYdNaCk"
      },
      "source": [
        "## Feature Extraction w\\ vectorizing\n",
        "\n",
        "Now it's time to extract features and create a bug of words. For this task we will create a function to return the transformed encoded data so we can actually train the model. We could use \n",
        "- CountVectorizer\n",
        "- HashVectorizer\n",
        "- TF-IDF Transformer\n",
        "\n",
        "We will also use a _PCA dimension reducer_ in order to get the most important features of the vector and a _StandardScaler_ to normalize the training instances before model training."
      ]
    },
    {
      "cell_type": "code",
      "metadata": {
        "id": "LzwHCqvCM118"
      },
      "source": [
        "N_FEATURES = 2000         # number of features that the vectorizers will produce\n",
        "N_FEATS_IMPORTANT = 400   # number of important features to keep after dimension reduction operation\n",
        "N_GRAMS = (1,3)           # n-grams to consider\n",
        "MAX_ITER = 500"
      ],
      "execution_count": 12,
      "outputs": []
    },
    {
      "cell_type": "markdown",
      "metadata": {
        "id": "gEbs3BXGQjbX"
      },
      "source": [
        "Define all three vectorizers, the PCA reducer and the Standard Scaler for each one of them"
      ]
    },
    {
      "cell_type": "code",
      "metadata": {
        "id": "vAgeGFPlQg1t"
      },
      "source": [
        "count_vectorizer = CountVectorizer(ngram_range=N_GRAMS, max_features=N_FEATURES, max_df=0.7)\n",
        "count_vectorizer.fit(cleaned_tweets)\n",
        "\n",
        "pca_count = PCA(n_components=N_FEATS_IMPORTANT)\n",
        "pca_count.fit(count_vectorizer.transform(cleaned_tweets).toarray())\n",
        "\n",
        "scaler_count = StandardScaler()"
      ],
      "execution_count": 13,
      "outputs": []
    },
    {
      "cell_type": "code",
      "metadata": {
        "id": "ZmN0PEoCOrJ1"
      },
      "source": [
        "hash_vectorizer = HashingVectorizer(ngram_range=N_GRAMS, n_features=N_FEATURES)\n",
        "hash_vectorizer.fit(cleaned_tweets)\n",
        "\n",
        "pca_hash = PCA(n_components=N_FEATS_IMPORTANT)\n",
        "pca_hash.fit(hash_vectorizer.transform(cleaned_tweets).toarray())\n",
        "\n",
        "scaler_hash = StandardScaler()"
      ],
      "execution_count": 14,
      "outputs": []
    },
    {
      "cell_type": "code",
      "metadata": {
        "id": "0Rvls-c6Qss9"
      },
      "source": [
        "tfidf_vectorizer = TfidfVectorizer(ngram_range=N_GRAMS, max_features=N_FEATURES, max_df=0.7)\n",
        "tfidf_vectorizer.fit(cleaned_tweets)\n",
        "\n",
        "pca_tfidf = PCA(n_components=N_FEATS_IMPORTANT)\n",
        "pca_tfidf.fit(tfidf_vectorizer.transform(cleaned_tweets).toarray())\n",
        "\n",
        "scaler_tfidf = StandardScaler()"
      ],
      "execution_count": 15,
      "outputs": []
    },
    {
      "cell_type": "code",
      "metadata": {
        "id": "Dcy45mdgH6Av"
      },
      "source": [
        "# simple function to transform tweets into a normalized feature matrix\n",
        "def transform_tweets(X, vectorizer, reducer, scaler):\n",
        "  new_X = reducer.transform(vectorizer.transform(X).toarray())\n",
        "  from sklearn.utils.validation import check_is_fitted\n",
        "  try:\n",
        "    check_is_fitted(scaler)\n",
        "  except:\n",
        "    scaler.fit(new_X)\n",
        "    print(\"Fitted Scaler\")\n",
        "\n",
        "  return scaler.transform(new_X)"
      ],
      "execution_count": 16,
      "outputs": []
    },
    {
      "cell_type": "markdown",
      "metadata": {
        "id": "-uhrd5cC9DLG"
      },
      "source": [
        "## Softmax Regression\n",
        "\n",
        "Train the softmax regression models for every vectorization method and fit the models according to $X_{train}$ "
      ]
    },
    {
      "cell_type": "code",
      "metadata": {
        "id": "z_6Owj1j6QTv",
        "colab": {
          "base_uri": "https://localhost:8080/"
        },
        "outputId": "80124387-7360-446e-e811-5e19f058b16f"
      },
      "source": [
        "model_count = LogisticRegression(n_jobs=-1, verbose=2, max_iter=MAX_ITER)\n",
        "X_train_count = transform_tweets(cleaned_tweets, count_vectorizer, pca_count, scaler_count)\n",
        "\n",
        "model_hash = LogisticRegression(n_jobs=-1, verbose=2, max_iter=MAX_ITER)\n",
        "X_train_hash = transform_tweets(cleaned_tweets, hash_vectorizer, pca_hash, scaler_hash)\n",
        "\n",
        "model_tfidf = LogisticRegression(n_jobs=-1, verbose=2, max_iter=MAX_ITER)\n",
        "X_train_tfidf = transform_tweets(cleaned_tweets, tfidf_vectorizer, pca_tfidf, scaler_tfidf)"
      ],
      "execution_count": 17,
      "outputs": [
        {
          "output_type": "stream",
          "name": "stdout",
          "text": [
            "Fitted Scaler\n",
            "Fitted Scaler\n",
            "Fitted Scaler\n"
          ]
        }
      ]
    },
    {
      "cell_type": "code",
      "metadata": {
        "colab": {
          "base_uri": "https://localhost:8080/"
        },
        "id": "jQlxBLiN6RHQ",
        "outputId": "a9a9a81b-35a8-4e5f-c898-31a6ca5bb438"
      },
      "source": [
        "model_count.fit(X_train_count, y_train.reshape((-1,)))"
      ],
      "execution_count": 18,
      "outputs": [
        {
          "output_type": "stream",
          "name": "stderr",
          "text": [
            "[Parallel(n_jobs=-1)]: Using backend LokyBackend with 2 concurrent workers.\n",
            "[Parallel(n_jobs=-1)]: Done   1 out of   1 | elapsed:    8.2s finished\n"
          ]
        },
        {
          "output_type": "execute_result",
          "data": {
            "text/plain": [
              "LogisticRegression(max_iter=500, n_jobs=-1, verbose=2)"
            ]
          },
          "metadata": {},
          "execution_count": 18
        }
      ]
    },
    {
      "cell_type": "code",
      "metadata": {
        "colab": {
          "base_uri": "https://localhost:8080/"
        },
        "id": "B4m4wxWjRi7H",
        "outputId": "61d228c9-c6b5-4b6b-ef65-13233f38ac58"
      },
      "source": [
        "model_hash.fit(X_train_hash, y_train.reshape((-1,)))"
      ],
      "execution_count": 19,
      "outputs": [
        {
          "output_type": "stream",
          "name": "stderr",
          "text": [
            "[Parallel(n_jobs=-1)]: Using backend LokyBackend with 2 concurrent workers.\n",
            "[Parallel(n_jobs=-1)]: Done   1 out of   1 | elapsed:    1.5s finished\n"
          ]
        },
        {
          "output_type": "execute_result",
          "data": {
            "text/plain": [
              "LogisticRegression(max_iter=500, n_jobs=-1, verbose=2)"
            ]
          },
          "metadata": {},
          "execution_count": 19
        }
      ]
    },
    {
      "cell_type": "code",
      "metadata": {
        "colab": {
          "base_uri": "https://localhost:8080/"
        },
        "id": "B2z4k7QRRkv3",
        "outputId": "488e00c1-1692-41ce-cb40-4b4ef9f28e3a"
      },
      "source": [
        "model_tfidf.fit(X_train_tfidf, y_train.reshape((-1,)))"
      ],
      "execution_count": 20,
      "outputs": [
        {
          "output_type": "stream",
          "name": "stderr",
          "text": [
            "[Parallel(n_jobs=-1)]: Using backend LokyBackend with 2 concurrent workers.\n",
            "[Parallel(n_jobs=-1)]: Done   1 out of   1 | elapsed:    5.3s finished\n"
          ]
        },
        {
          "output_type": "execute_result",
          "data": {
            "text/plain": [
              "LogisticRegression(max_iter=500, n_jobs=-1, verbose=2)"
            ]
          },
          "metadata": {},
          "execution_count": 20
        }
      ]
    },
    {
      "cell_type": "markdown",
      "metadata": {
        "id": "RNnXUGtNLMW1"
      },
      "source": [
        "\n",
        "## Softmax Evaluation\n",
        "\n",
        "Print statistics and the learning curve for each one of the models."
      ]
    },
    {
      "cell_type": "code",
      "metadata": {
        "id": "ar6FLtfMTYyi"
      },
      "source": [
        "def get_stats(model, X, y):\n",
        "  y_pred = model.predict(X)\n",
        "  y_pred_proba = model.predict_proba(X)\n",
        "  return accuracy_score(y, y_pred), precision_score(y, y_pred, labels=[0,1,2], average='weighted'), f1_score(y, y_pred, labels=[0,1,2], average='weighted'), recall_score(y, y_pred, labels=[0,1,2], average='weighted'), log_loss(y, y_pred_proba)\n",
        "\n",
        "def print_stats(model, X, y):\n",
        "  acc, pre, f, rec, loss = get_stats(model, X, y)\n",
        "\n",
        "  print(\"Accuracy:\", acc)\n",
        "  print(\"Precision:\", pre)\n",
        "  print(\"Recall:\", rec)\n",
        "  print(\"F1-Score:\", f)\n",
        "  print(\"Cross Entropy Loss:\", loss)"
      ],
      "execution_count": 29,
      "outputs": []
    },
    {
      "cell_type": "code",
      "metadata": {
        "id": "N0Weh8UX-W7Y",
        "colab": {
          "base_uri": "https://localhost:8080/"
        },
        "outputId": "364dc60a-3252-4d94-c99c-2e6ec2394aba"
      },
      "source": [
        "X_test_count = transform_tweets(clean_tweets(X_test_raw), count_vectorizer, pca_count, scaler_count)\n",
        "\n",
        "print(\"Count Vectorizer Softmax Regression: \")\n",
        "print_stats(model_count, X_test_count, y_test)"
      ],
      "execution_count": 30,
      "outputs": [
        {
          "output_type": "stream",
          "name": "stdout",
          "text": [
            "Count Vectorizer Softmax Regression: \n",
            "Accuracy: 0.7011393514461\n",
            "Precision: 0.6976390709256625\n",
            "Recall: 0.7011393514461\n",
            "F1-Score: 0.6959506032751609\n",
            "Cross Entropy Loss: 0.7037916398498153\n"
          ]
        }
      ]
    },
    {
      "cell_type": "code",
      "metadata": {
        "colab": {
          "base_uri": "https://localhost:8080/"
        },
        "id": "aCpco7Bg-uMQ",
        "outputId": "c22e3e37-8ede-4373-96eb-c4c7408560c7"
      },
      "source": [
        "X_test_hash = transform_tweets(clean_tweets(X_test_raw), hash_vectorizer, pca_hash, scaler_hash)\n",
        "\n",
        "print(\"Hash Vectorizer Softmax Regression: \")\n",
        "print_stats(model_hash, X_test_hash, y_test)"
      ],
      "execution_count": 31,
      "outputs": [
        {
          "output_type": "stream",
          "name": "stdout",
          "text": [
            "Hash Vectorizer Softmax Regression: \n",
            "Accuracy: 0.6621384750219106\n",
            "Precision: 0.6476140055684465\n",
            "Recall: 0.6621384750219106\n",
            "F1-Score: 0.6474593085048818\n",
            "Cross Entropy Loss: 0.7671371807702219\n"
          ]
        }
      ]
    },
    {
      "cell_type": "code",
      "metadata": {
        "id": "F1NYd0gB-xua",
        "colab": {
          "base_uri": "https://localhost:8080/"
        },
        "outputId": "70788c6d-784d-4e9c-ae04-84a7f22bb209"
      },
      "source": [
        "X_test_tfidf = transform_tweets(clean_tweets(X_test_raw), tfidf_vectorizer, pca_tfidf, scaler_tfidf)\n",
        "\n",
        "print(\"TF-IDF Vectorizer Softmax Regression: \")\n",
        "print_stats(model_tfidf, X_test_tfidf, y_test)"
      ],
      "execution_count": 32,
      "outputs": [
        {
          "output_type": "stream",
          "name": "stdout",
          "text": [
            "TF-IDF Vectorizer Softmax Regression: \n",
            "Accuracy: 0.6906222611744084\n",
            "Precision: 0.6868714314005369\n",
            "Recall: 0.6906222611744084\n",
            "F1-Score: 0.6848275139949715\n",
            "Cross Entropy Loss: 0.7093321163843052\n"
          ]
        }
      ]
    },
    {
      "cell_type": "markdown",
      "metadata": {
        "id": "oJKQPl398Eoc"
      },
      "source": [
        "Check [this guide](https://scikit-learn.org/stable/auto_examples/model_selection/plot_learning_curve.html) that we used and changed a little in order to print the learning curve the way we wanted.\n",
        "\n",
        "**IMPORTANT NOTE**: The learning_curve function uses a cross-validation technique to evaluate the model and print the learning curve. We override this default behaviour by messing with the $cv$ argument and applied our own K-FOLD validation sets in order to evaluate the model only on test-data **given by the instructors**."
      ]
    },
    {
      "cell_type": "code",
      "metadata": {
        "id": "pjVpKNcmVzvD"
      },
      "source": [
        "# https://scikit-learn.org/stable/auto_examples/model_selection/plot_learning_curve.html\n",
        "\n",
        "def plot_learning_curve(\n",
        "    estimator,\n",
        "    title,\n",
        "    X,\n",
        "    y,\n",
        "    axes=None,\n",
        "    ylim=None,\n",
        "    cv=None,\n",
        "    n_jobs=None,\n",
        "    train_sizes=np.linspace(0.1, 1.0, 10),\n",
        "    VERBOSE=False\n",
        "):\n",
        "    \"\"\"\n",
        "    Generate 3 plots: the test and training learning curve, the training\n",
        "    samples vs fit times curve, the fit times vs score curve.\n",
        "\n",
        "    Parameters\n",
        "    ----------\n",
        "    estimator : estimator instance\n",
        "        An estimator instance implementing `fit` and `predict` methods which\n",
        "        will be cloned for each validation.\n",
        "\n",
        "    title : str\n",
        "        Title for the chart.\n",
        "\n",
        "    X : array-like of shape (n_samples, n_features)\n",
        "        Training vector, where ``n_samples`` is the number of samples and\n",
        "        ``n_features`` is the number of features.\n",
        "\n",
        "    y : array-like of shape (n_samples) or (n_samples, n_features)\n",
        "        Target relative to ``X`` for classification or regression;\n",
        "        None for unsupervised learning.\n",
        "\n",
        "    axes : array-like of shape (3,), default=None\n",
        "        Axes to use for plotting the curves.\n",
        "\n",
        "    ylim : tuple of shape (2,), default=None\n",
        "        Defines minimum and maximum y-values plotted, e.g. (ymin, ymax).\n",
        "\n",
        "    cv : int, cross-validation generator or an iterable, default=None\n",
        "        Determines the cross-validation splitting strategy.\n",
        "        Possible inputs for cv are:\n",
        "\n",
        "          - None, to use the default 5-fold cross-validation,\n",
        "          - integer, to specify the number of folds.\n",
        "          - :term:`CV splitter`,\n",
        "          - An iterable yielding (train, test) splits as arrays of indices.\n",
        "\n",
        "        For integer/None inputs, if ``y`` is binary or multiclass,\n",
        "        :class:`StratifiedKFold` used. If the estimator is not a classifier\n",
        "        or if ``y`` is neither binary nor multiclass, :class:`KFold` is used.\n",
        "\n",
        "        Refer :ref:`User Guide <cross_validation>` for the various\n",
        "        cross-validators that can be used here.\n",
        "\n",
        "    n_jobs : int or None, default=None\n",
        "        Number of jobs to run in parallel.\n",
        "        ``None`` means 1 unless in a :obj:`joblib.parallel_backend` context.\n",
        "        ``-1`` means using all processors. See :term:`Glossary <n_jobs>`\n",
        "        for more details.\n",
        "\n",
        "    train_sizes : array-like of shape (n_ticks,)\n",
        "        Relative or absolute numbers of training examples that will be used to\n",
        "        generate the learning curve. If the ``dtype`` is float, it is regarded\n",
        "        as a fraction of the maximum size of the training set (that is\n",
        "        determined by the selected validation method), i.e. it has to be within\n",
        "        (0, 1]. Otherwise it is interpreted as absolute sizes of the training\n",
        "        sets. Note that for classification the number of samples usually have\n",
        "        to be big enough to contain at least one sample from each class.\n",
        "        (default: np.linspace(0.1, 1.0, 5))\n",
        "    \"\"\"\n",
        "    if axes is None:\n",
        "        _, axes = plt.subplots(1, 3, figsize=(20, 5))\n",
        "\n",
        "    axes[0].set_title(title)\n",
        "    if ylim is not None:\n",
        "        axes[0].set_ylim(*ylim)\n",
        "    axes[0].set_xlabel(\"Training examples\")\n",
        "    axes[0].set_ylabel(\"F1-Score\")\n",
        "\n",
        "    train_sizes, train_scores, test_scores, fit_times, _ = learning_curve(\n",
        "        estimator,\n",
        "        X,\n",
        "        y,\n",
        "        cv=cv,\n",
        "        n_jobs=n_jobs,\n",
        "        train_sizes=train_sizes,\n",
        "        return_times=True,\n",
        "        scoring='f1_micro'\n",
        "    )\n",
        "    train_scores_mean = np.mean(train_scores, axis=1)\n",
        "    train_scores_std = np.std(train_scores, axis=1)\n",
        "    test_scores_mean = np.mean(test_scores, axis=1)\n",
        "    test_scores_std = np.std(test_scores, axis=1)\n",
        "    fit_times_mean = np.mean(fit_times, axis=1)\n",
        "    fit_times_std = np.std(fit_times, axis=1)\n",
        "\n",
        "    # Plot learning curve\n",
        "    axes[0].grid()\n",
        "    axes[0].fill_between(\n",
        "        train_sizes,\n",
        "        train_scores_mean - train_scores_std,\n",
        "        train_scores_mean + train_scores_std,\n",
        "        alpha=0.1,\n",
        "        color=\"r\",\n",
        "    )\n",
        "    axes[0].fill_between(\n",
        "        train_sizes,\n",
        "        test_scores_mean - test_scores_std,\n",
        "        test_scores_mean + test_scores_std,\n",
        "        alpha=0.1,\n",
        "        color=\"g\",\n",
        "    )\n",
        "    axes[0].plot(\n",
        "        train_sizes, train_scores_mean, \"o-\", color=\"r\", label=\"Training score\"\n",
        "    )\n",
        "    axes[0].plot(\n",
        "        train_sizes, test_scores_mean, \"o-\", color=\"g\", label=\"Cross-validation score\"\n",
        "    )\n",
        "    axes[0].legend(loc=\"best\")\n",
        "\n",
        "    if VERBOSE:\n",
        "      # Plot n_samples vs fit_times\n",
        "      axes[1].grid()\n",
        "      axes[1].plot(train_sizes, fit_times_mean, \"o-\")\n",
        "      axes[1].fill_between(\n",
        "          train_sizes,\n",
        "          fit_times_mean - fit_times_std,\n",
        "          fit_times_mean + fit_times_std,\n",
        "          alpha=0.1,\n",
        "      )\n",
        "      axes[1].set_xlabel(\"Training examples\")\n",
        "      axes[1].set_ylabel(\"fit_times\")\n",
        "      axes[1].set_title(\"Scalability of the model\")\n",
        "\n",
        "      # Plot fit_time vs score\n",
        "      axes[2].grid()\n",
        "      axes[2].plot(fit_times_mean, test_scores_mean, \"o-\")\n",
        "      axes[2].fill_between(\n",
        "          fit_times_mean,\n",
        "          test_scores_mean - test_scores_std,\n",
        "          test_scores_mean + test_scores_std,\n",
        "          alpha=0.1,\n",
        "      )\n",
        "      axes[2].set_xlabel(\"fit_times\")\n",
        "      axes[2].set_ylabel(\"Score\")\n",
        "      axes[2].set_title(\"Performance of the model\")\n",
        "\n",
        "    return plt"
      ],
      "execution_count": 25,
      "outputs": []
    },
    {
      "cell_type": "markdown",
      "metadata": {
        "id": "CA6hr4JUql6k"
      },
      "source": [
        "To use the testing set that the instructors provided us with, we will have to create a $cv$ item instance. We will concatenate all train and test data."
      ]
    },
    {
      "cell_type": "code",
      "metadata": {
        "id": "yeaR9M9btUh7"
      },
      "source": [
        "y = np.concatenate((y_train, y_test))\n",
        "\n",
        "X_count = np.concatenate((X_train_count, X_test_count))\n",
        "X_hash = np.concatenate((X_train_hash, X_test_hash))\n",
        "X_tfidf = np.concatenate((X_train_tfidf, X_test_tfidf))\n"
      ],
      "execution_count": 26,
      "outputs": []
    },
    {
      "cell_type": "markdown",
      "metadata": {
        "id": "SQOZS6__ux7D"
      },
      "source": [
        "We will also divide the dataset based on k-folding, explicitely splitting train and test data, in order to always evaluate test-accuracy based on the given test data.\n",
        "\n",
        "**NOTE** We will only  use 1-fold evaluation since we have to validate based on the same test set."
      ]
    },
    {
      "cell_type": "code",
      "metadata": {
        "id": "plX26V10urxd"
      },
      "source": [
        "# change this for more K-FOLDS\n",
        "KFOLDS = 1\n",
        "\n",
        "# calculate slice sizes for test set\n",
        "test_slice = X_test_count.shape[0] // KFOLDS\n",
        "\n",
        "# create the train-test indices for k folds\n",
        "train_test_iter = []\n",
        "for fold in range(1, KFOLDS+1):\n",
        "  train_test_iter.append(\n",
        "      (\n",
        "          np.arange(0, X_train_count.shape[0], 1), \n",
        "          np.arange(X_train_count.shape[0] + 1 , X_train_count.shape[0] + fold*test_slice, 1)\n",
        "      )\n",
        "  )"
      ],
      "execution_count": 27,
      "outputs": []
    },
    {
      "cell_type": "markdown",
      "metadata": {
        "id": "CrSZTAz86AFk"
      },
      "source": [
        "Use the following cell to print the learning curves. Change VERBOSE:  \n",
        "\n",
        "- $True$: print score-training size graph with performance and scallability graphs\n",
        "- $False$: print only score-training size graph\n"
      ]
    },
    {
      "cell_type": "code",
      "metadata": {
        "colab": {
          "base_uri": "https://localhost:8080/",
          "height": 894
        },
        "id": "Tacrd_5pXwu2",
        "outputId": "32204707-2bb0-45bc-c1ad-d8e26ddc6a47"
      },
      "source": [
        "VERBOSE = True\n",
        "\n",
        "if VERBOSE:\n",
        "  fig, axes = plt.subplots(3, 3, figsize=(20, 15))\n",
        "else:\n",
        "  fig, axes = plt.subplots(1, 3, figsize=(20, 5))\n",
        "  axes = np.asarray([axes]) # hack to make function work with single axis\n",
        "\n",
        "plot = plot_learning_curve(LogisticRegression(n_jobs=-1, max_iter=MAX_ITER), \"Count Vectorizer Learning Curve\", X_count, y, axes=axes[:, 0] , n_jobs=-1, cv=train_test_iter, VERBOSE=VERBOSE)\n",
        "plot = plot_learning_curve(LogisticRegression(n_jobs=-1, max_iter=MAX_ITER), \"Hash Vectorizer Learning Curve\", X_hash, y, axes=axes[:, 1] , n_jobs=-1, cv=train_test_iter, VERBOSE=VERBOSE)\n",
        "plot = plot_learning_curve(LogisticRegression(n_jobs=-1, max_iter=MAX_ITER), \"TF-IDF Vectorizer Learning Curve\", X_tfidf, y, axes=axes[:, 2] , n_jobs=-1, cv=train_test_iter, VERBOSE=VERBOSE)"
      ],
      "execution_count": 28,
      "outputs": [
        {
          "output_type": "display_data",
          "data": {
            "image/png": "[encoded data removed]",
            "text/plain": [
              "<Figure size 1440x1080 with 9 Axes>"
            ]
          },
          "metadata": {}
        }
      ]
    },
    {
      "cell_type": "markdown",
      "metadata": {
        "id": "CulMB5TJ6hWe"
      },
      "source": [
        "## Notes and Observations\n",
        "\n",
        "We observe that Count Vectorizer and TF-IDF vectorizer work best. We also observe low performance and scalabillity in all models since after the first 4 fits, there is small or no improvement in test-set score, while the more data we provide the model with, the slower it converges, leading to more fits but still, lower scalability over the training dataset size, especially with hashing vectorizer feature extraction process. \n",
        "\n",
        "However we already knew that the model estimator is fairly simple (Softmax One-vs-All Regression) and cannot comprehend the complexity of our sentiment analysis problem in order to increase the prediction accuracy and decrease false predictions. The accuracy strictly convergences in values around 70% and that's because our model can only catch linear relations between the features and tweet's sentinment, while the cross entropy error is quite high. \n",
        "\n",
        "By observing the learning curves we can watch that the model is as fitted as it could be as the accuracy in test and train instances predictions converges in all 3 models. This means that the bias-variance exhange is fair and there is no overfitting/underfitting. In conclusion, in order to get better predictions we have to add a non-linearity to the model, something that must be done using a different algorithm that sklearn's Logistic Regression."
      ]
    },
    {
      "cell_type": "code",
      "metadata": {
        "id": "NdAVnEh0ML4V"
      },
      "source": [
        ""
      ],
      "execution_count": 28,
      "outputs": []
    }
  ]
}